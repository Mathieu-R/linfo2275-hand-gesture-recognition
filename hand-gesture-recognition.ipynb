{
 "cells": [
  {
   "cell_type": "code",
   "execution_count": 20,
   "metadata": {},
   "outputs": [],
   "source": [
    "import numpy as np \n",
    "import numpy.typing as npt \n",
    "import pandas as pd \n",
    "\n",
    "import matplotlib.pyplot as plt\n",
    "import seaborn as sns\n",
    "\n",
    "import re\n",
    "from tqdm.notebook import tqdm\n",
    "\n",
    "from sklearn.model_selection import train_test_split, cross_val_score\n",
    "from sklearn.preprocessing import StandardScaler, MultiLabelBinarizer\n",
    "from sklearn.metrics import classification_report, confusion_matrix, accuracy_score\n",
    "from sklearn.decomposition import PCA\n",
    "\n",
    "from scipy.spatial import distance\n",
    "from scipy.stats import mode\n",
    "\n",
    "from dollarpy import Recognizer, Template, Point\n",
    "\n",
    "from math import sqrt\n",
    "from typing import TextIO"
   ]
  },
  {
   "cell_type": "code",
   "execution_count": 2,
   "metadata": {},
   "outputs": [
    {
     "name": "stdout",
     "output_type": "stream",
     "text": [
      "The history saving thread hit an unexpected error (OperationalError('attempt to write a readonly database')).History will not be written to the database.\n"
     ]
    }
   ],
   "source": [
    "USER_IDS = range(0, 10)"
   ]
  },
  {
   "attachments": {},
   "cell_type": "markdown",
   "metadata": {},
   "source": [
    "### Load datasets"
   ]
  },
  {
   "cell_type": "code",
   "execution_count": 7,
   "metadata": {},
   "outputs": [
    {
     "data": {
      "application/vnd.jupyter.widget-view+json": {
       "model_id": "0f0bfb2bcdd34b7296cae43bbfc1825d",
       "version_major": 2,
       "version_minor": 0
      },
      "text/plain": [
       "  0%|          | 0/1000 [00:00<?, ?it/s]"
      ]
     },
     "metadata": {},
     "output_type": "display_data"
    },
    {
     "name": "stderr",
     "output_type": "stream",
     "text": [
      "/var/folders/zn/_2h7w2j547357vpm3_5pxrsr0000gn/T/ipykernel_16890/2319885195.py:28: VisibleDeprecationWarning: Creating an ndarray from ragged nested sequences (which is a list-or-tuple of lists-or-tuples-or ndarrays with different lengths or shapes) is deprecated. If you meant to do this, you must specify 'dtype=object' when creating the ndarray.\n",
      "  return np.array(X), np.array(Y), hand_gesture_data_matrix\n"
     ]
    }
   ],
   "source": [
    "def load_datasets(domain: str):\n",
    "\tdir_path = f\"datasets/{domain}\"\n",
    "\n",
    "\tX = []\n",
    "\tY = []\n",
    "\n",
    "\t# matrix (number_drawn, user_id)\n",
    "\t# at each cell we have a list of multiple try of a specific number drawing (number_drawn)\n",
    "\t# drawn by a specific user (user_id), each try contains a list of data points (x, y, z)\n",
    "\thand_gesture_data_matrix = np.zeros((10, 10), dtype=object)\n",
    "\tfor i in range(0, 10):\n",
    "\t\tfor j in range(0, 10):\n",
    "\t\t\thand_gesture_data_matrix[i, j] = []\n",
    "\n",
    "\tfor filename in tqdm(range(1, 1001)):\n",
    "\t\tfile_path = f\"{dir_path}/{filename}.txt\"\n",
    "\t\twith open(file=file_path, mode=\"r\") as f:\n",
    "\t\t\t# get the target, user_id \n",
    "\t\t\t# and a list of positions vectors \\in \\R^3: <x, y, z>\n",
    "\t\t\t# that represents the drawing\n",
    "\t\t\tnumber_drawn, user_id, gesture_datas = load_gesture_data(file=f)\n",
    "\n",
    "\t\t\tX.append(gesture_datas)\n",
    "\t\t\tY.append(number_drawn)\n",
    "\n",
    "\t\t\thand_gesture_data_matrix[number_drawn - 1, user_id - 1].append(gesture_datas)\n",
    "\n",
    "\treturn np.array(X), np.array(Y), hand_gesture_data_matrix\n",
    "\n",
    "def load_gesture_data(file: TextIO):\n",
    "\t\"\"\"Load a hand gesture data file structured in the following way:\n",
    "\t-----\n",
    "\tDomain id = <domain-id>\n",
    "\tClass id = <class-id>\n",
    "\tUser id = <user-id>\n",
    "\n",
    "\t\"<x>,<y>,<z>,<t>\"\n",
    "\t...\n",
    "\t-----\n",
    "\n",
    "\tParameters\n",
    "\t----------\n",
    "\tfile : TextIOWrapper\n",
    "\t\tHand gesture data file\n",
    "\n",
    "\tReturns\n",
    "\t-------\n",
    "\tint\n",
    "\t\tNumber drawn\n",
    "\tint \n",
    "\t\tUser id\n",
    "\tnpt.NDArray, shape (n_timepoints, vec_dimension)\n",
    "\t\tTime series of hand gesture data points\n",
    "\t\"\"\"\n",
    "\tlines = file.readlines()\n",
    "\t\n",
    "\tnumber_drawn = lines[1].strip()\n",
    "\tmatch_number = re.search(\"=\", number_drawn)\n",
    "\tnumber_drawn = int(match_number.string[match_number.end():].strip())\n",
    "\n",
    "\tuser_id = lines[2].strip()\n",
    "\tmatch_user = re.search(\"=\", user_id)\n",
    "\tuser_id = int(match_user.string[match_user.end():].strip())\n",
    "\n",
    "\tgesture_datas = []\n",
    "\n",
    "\tfor row in range(5, len(lines)):\n",
    "\t\tgesture_data = lines[row].split(\",\")\n",
    "\t\t# we only keep <x, y, z> coordinates\n",
    "\t\tgesture_data = np.array([float(data.strip()) for data in gesture_data[0:-1]])\n",
    "\t\tgesture_datas.append(gesture_data)\n",
    "\t\n",
    "\treturn number_drawn, user_id, gesture_datas\n",
    "\n",
    "X, y, hand_gesture_data_matrix = load_datasets(domain=\"Domain01\")"
   ]
  },
  {
   "attachments": {},
   "cell_type": "markdown",
   "metadata": {},
   "source": [
    "### Cross-validation"
   ]
  },
  {
   "cell_type": "code",
   "execution_count": null,
   "metadata": {},
   "outputs": [],
   "source": [
    "def split_dataset(X, Y, user_id):\n",
    "\tslices = range(user_id * 100, 100 + (user_id * 100))\n",
    "\t\t\n",
    "\tX_train = np.delete(X, slices)\n",
    "\ty_train = np.delete(Y, slices)\n",
    "\n",
    "\tX_test = X[slices]\n",
    "\ty_test = Y[slices]\n",
    "\n",
    "\treturn X_train, X_test, y_train, y_test\n",
    "\n",
    "def user_independent_cross_validation(estimator, X, y):\n",
    "\ty_preds = []\n",
    "\taccuracies = []\n",
    "\n",
    "\tfor user_id in USER_IDS:\n",
    "\t\tX_train, X_test, y_train, y_test = split_dataset(X, y, user_id=user_id)\n",
    "\n",
    "\t\testimator.fit(X_train, y_train)\n",
    "\t\ty_pred = estimator.predict(X_test)\n",
    "\n",
    "\t\tprint(y_test)\n",
    "\t\tprint(y_pred)\n",
    "\n",
    "\t\taccuracy = accuracy_score(y_true=y_test, y_pred=y_pred)\n",
    "\t\taccuracies.append(accuracy)\n",
    "\n",
    "\t\ty_preds.append(y_pred)\n",
    "\n",
    "\taccuracy_mean = np.mean(accuracies)\n",
    "\taccuracy_std = np.std(accuracies)\n",
    "\t\n",
    "\treturn accuracy_mean, accuracy_std\n",
    "\n",
    "def user_dependent_cross_validation(knn):\n",
    "\tpass"
   ]
  },
  {
   "attachments": {},
   "cell_type": "markdown",
   "metadata": {},
   "source": [
    "### Preprocessing"
   ]
  },
  {
   "cell_type": "code",
   "execution_count": 8,
   "metadata": {},
   "outputs": [],
   "source": [
    "# standardize data\n",
    "# scaler = StandardScaler()\n",
    "# X_train = scaler.fit_transform(X_train)\n",
    "# X_test = scaler.transform(X_test)"
   ]
  },
  {
   "attachments": {},
   "cell_type": "markdown",
   "metadata": {},
   "source": [
    "### Dynamic Time Warping"
   ]
  },
  {
   "cell_type": "code",
   "execution_count": 9,
   "metadata": {},
   "outputs": [],
   "source": [
    "# https://towardsdatascience.com/dynamic-time-warping-3933f25fcdd\n",
    "def dtw_distance(ts_a: npt.NDArray, ts_b: npt.NDArray, window: int = 3) -> float:\n",
    "\t\"\"\"Compute the DTW distance for two time series\n",
    "\n",
    "\tParameters\n",
    "\t----------\n",
    "\tts_a : npt.NDArray, shape (n_timepoints, vec_dimension)\n",
    "\t\tTime series of hand gesture data points\n",
    "\tts_b : npt.NDArray, shape (m_timepoints, vec_dimension)\n",
    "\t\tTime series of hand gesture data points\n",
    "\twindow : int, optional\n",
    "\t\tWindow size, by default 3\n",
    "\n",
    "\tReturns\n",
    "\t-------\n",
    "\tfloat\n",
    "\t\t_description_\n",
    "\t\"\"\"\n",
    "\tn = len(ts_a)\n",
    "\tm = len(ts_b)\n",
    "\n",
    "\tDTW_matrix = np.full((n+1, m+1), fill_value=np.inf)\n",
    "\tDTW_matrix[0, 0] = 0.0\n",
    "\n",
    "\twindow = max(window, abs(n - m))\n",
    "\n",
    "\tfor i in range(0, n+1):\n",
    "\t\tfor j in range(max(0, i - window), min(m, i + window) + 1):\n",
    "\t\t\tDTW_matrix[i, j] = 0.0\n",
    "\n",
    "\tfor i in range(1, n+1):\n",
    "\t\tfor j in range(max(1, i - window), min(m, i + window) + 1):\n",
    "\t\t\t# manhattan distance\n",
    "\t\t\tcost = distance.sqeuclidean(ts_a[i-1], ts_b[j-1])\n",
    "\t\t\toptimal_warping_path = min(\n",
    "\t\t\t\tDTW_matrix[i-1, j], # insertion\n",
    "\t\t\t\tDTW_matrix[i, j-1], # deletion\n",
    "\t\t\t\tDTW_matrix[i-1, j-1] # match\n",
    "\t\t\t)\n",
    "\n",
    "\t\t\tDTW_matrix[i, j] = cost + optimal_warping_path\n",
    "\t\n",
    "\treturn sqrt(DTW_matrix[n, m])"
   ]
  },
  {
   "cell_type": "code",
   "execution_count": 10,
   "metadata": {},
   "outputs": [],
   "source": [
    "# CAVEAT: ONLY WORKS FOR MONODIMENSIONAL TIME SERIES...\n",
    "def lb_keogh(ts_query: npt.NDArray, ts_candidate: npt.NDArray, window: int) -> float:\n",
    "\t\"\"\"Implement LB Keogh algorithm which is a fast lowerbounding method for constrained DTW distance\n",
    "\n",
    "\tParameters\n",
    "\t----------\n",
    "\tts_query : npt.NDArray, shape (n_timepoints, vec_dimension)\n",
    "\t\tQuery time series to compare with the envelope of the candidate time series\n",
    "\tts_candidate : npt.NDArray, shape (m_timepoints, vec_dimension)\n",
    "\t\tCandidate time series, used to compute the envelope.\n",
    "\twindow : int\n",
    "\t\tWindows size to use for the envelope generation\n",
    "\n",
    "\tReturns\n",
    "\t-------\n",
    "\tfloat\n",
    "\t\tDistance between the query time series and the envelope of the candidate time series\n",
    "\t\"\"\"\n",
    "\tn = min(len(ts_query), len(ts_candidate))\n",
    "\tlb_tot = 0\n",
    "\n",
    "\tfor i in range(0, n):\n",
    "\t\tstart = (i - window if i - window >= 0 else 0)\n",
    "\t\tstop = (i + window if i + window <= n - 1 else n - 1)\n",
    "\n",
    "\t\tlower_bound = np.amin(ts_candidate[start:stop + 1], axis=0)\n",
    "\t\tupper_bound = np.amax(ts_candidate[start:stop + 1], axis=0)\n",
    "\n",
    "\t\tdelta = []\n",
    "\n",
    "\t\t# for each coordinate of the position vector \n",
    "\t\tfor j in range(0, 3):\n",
    "\t\t\tif t[i][j] > upper_bound[j]:\n",
    "\t\t\t\tdelta.append(t[i][j] - upper_bound)\n",
    "\t\t\telif t[i][j] < lower_bound[j]:\n",
    "\t\t\t\tdelta.append(lower_bound - t[i][j])\n",
    "\t\t\t\n",
    "\t\tlb_tot += np.linalg.norm(delta)\n",
    "\n",
    "\treturn lb_tot"
   ]
  },
  {
   "cell_type": "code",
   "execution_count": 11,
   "metadata": {},
   "outputs": [],
   "source": [
    "# https://nbviewer.org/github/markdregan/K-Nearest-Neighbors-with-Dynamic-Time-Warping/blob/master/K_Nearest_Neighbor_Dynamic_Time_Warping.ipynb\n",
    "\n",
    "# http://alexminnaar.com/2014/04/16/Time-Series-Classification-and-Clustering-with-Python.html\n",
    "\n",
    "class KNN:\n",
    "\tdef __init__(self, n_neighbors = 1, window = 3, distance_fun = dtw_distance):\n",
    "\t\tself.n_neigbors = n_neighbors\n",
    "\t\tself.distance_fun = distance_fun\n",
    "\t\tself.window = window\n",
    "\n",
    "\t\tself.X = None \n",
    "\t\tself.y = None\n",
    "\t\n",
    "\tdef fit(self, X: npt.NDArray, y: npt.NDArray):\n",
    "\t\t\"\"\"Fit the model using X as training data and y as target\n",
    "\n",
    "\t\tParameters\n",
    "\t\t----------\n",
    "\t\tX : npt.NDArray, shape (n_samples, n_timepoints, vec_dimension)\n",
    "\t\t\tTraining data\n",
    "\t\ty : npt.NDArray, shape (n_samples,)\n",
    "\t\t\tTarget data\n",
    "\t\t\"\"\"\n",
    "\t\tself.X = X\n",
    "\t\tself.y = y\n",
    "\n",
    "\tdef distance_matrix(self, X_train: npt.NDArray, X_test: npt.NDArray):\n",
    "\t\tn = len(X_test)\n",
    "\t\tm = len(X_train)\n",
    "\t\tdistance_matrix = np.zeros((n, m))\n",
    "\n",
    "\t\tfor i in tqdm(range(0, n)):\n",
    "\t\t\tmin_dist = np.inf\n",
    "\t\t\tfor j in range(0, m):\n",
    "\t\t\t\t#if lb_keogh(X_train[j], X_test[i], window=self.window) < min_dist:\n",
    "\t\t\t\tdist = self.distance_fun(X_test[i], X_train[j], window=self.window)\n",
    "\t\t\t\tdistance_matrix[i, j] = dist\n",
    "\t\t\t\t\t#if dist < min_dist:\n",
    "\t\t\t\t\t\t#min_dist = dist\n",
    "\t\t\n",
    "\t\treturn distance_matrix\n",
    "\n",
    "\tdef predict(self, X: npt.NDArray) -> npt.NDArray:\n",
    "\t\t\"\"\"Predict the target values (here: class label) for the given testing dataset\n",
    "\n",
    "\t\tParameters\n",
    "\t\t----------\n",
    "\t\tX : npt.NDArray, shape (n_samples, n_timepoints, vec_dimension)\n",
    "\t\t\tTesting data\n",
    "\n",
    "\t\tReturns\n",
    "\t\t-------\n",
    "\t\tnpt.NDArray, shape (n_samples,)\n",
    "\t\t\tArray of predicted target values\n",
    "\t\t\"\"\"\n",
    "\t\tdistance_matrix = self.distance_matrix(self.X, X)\n",
    "\n",
    "\t\tknn_idx = distance_matrix.argsort()[:, :self.n_neigbors]\n",
    "\t\tknn_labels = self.y[knn_idx]\n",
    "\n",
    "\t\tprediction = mode(knn_labels, axis=1)[0]\n",
    "\n",
    "\t\treturn prediction.ravel()"
   ]
  },
  {
   "cell_type": "code",
   "execution_count": 13,
   "metadata": {},
   "outputs": [],
   "source": [
    "def plot_confusion_matrix(y_true, y_pred):\n",
    "\tconf_matrix = np.array(confusion_matrix(y_true=y_true, y_pred=y_pred))\n",
    "\tsns.heatmap(conf_matrix, annot=True)\n",
    "\tplt.show()"
   ]
  },
  {
   "cell_type": "code",
   "execution_count": 82,
   "metadata": {},
   "outputs": [
    {
     "data": {
      "application/vnd.jupyter.widget-view+json": {
       "model_id": "beb9809805fe4b74b8e17fc58ab62f61",
       "version_major": 2,
       "version_minor": 0
      },
      "text/plain": [
       "  0%|          | 0/100 [00:00<?, ?it/s]"
      ]
     },
     "metadata": {},
     "output_type": "display_data"
    },
    {
     "name": "stdout",
     "output_type": "stream",
     "text": [
      "[ 1  1  1  1  1  1  1  1  1  1  2  2  2  2  2  2  2  2  2  2  3  3  3  3\n",
      "  3  3  3  3  3  3  4  4  4  4  4  4  4  4  4  4  5  5  5  5  5  5  5  5\n",
      "  5  5  6  6  6  6  6  6  6  6  6  6  7  7  7  7  7  7  7  7  7  7  8  8\n",
      "  8  8  8  8  8  8  8  8  9  9  9  9  9  9  9  9  9  9 10 10 10 10 10 10\n",
      " 10 10 10 10]\n",
      "[ 1  1 10  1  8  8  8  8  8  8  2  2  2  3  2  2  5  5  5  5  3  3  3  3\n",
      "  3  3  3  3  3  3  6  6  4  4  4  4  4  6  6  7  7  5  8  4  8  8  8  8\n",
      "  8  8  8  8  8  8 10  5 10 10 10 10  7 10  8 10 10  8  8  8  7  8  8  6\n",
      " 10  5  5 10  8  8  8  8  8  8  8  8  8  8  6  6  6  8 10 10 10 10 10 10\n",
      " 10 10 10 10]\n"
     ]
    },
    {
     "name": "stderr",
     "output_type": "stream",
     "text": [
      "/var/folders/zn/_2h7w2j547357vpm3_5pxrsr0000gn/T/ipykernel_1181/2559922313.py:61: FutureWarning: Unlike other reduction functions (e.g. `skew`, `kurtosis`), the default behavior of `mode` typically preserves the axis it acts along. In SciPy 1.11.0, this behavior will change: the default value of `keepdims` will become False, the `axis` over which the statistic is taken will be eliminated, and the value None will no longer be accepted. Set `keepdims` to True or False to avoid this warning.\n",
      "  prediction = mode(knn_labels, axis=1)[0]\n"
     ]
    },
    {
     "data": {
      "application/vnd.jupyter.widget-view+json": {
       "model_id": "27169580ab62413c95ff2452f0851ecd",
       "version_major": 2,
       "version_minor": 0
      },
      "text/plain": [
       "  0%|          | 0/100 [00:00<?, ?it/s]"
      ]
     },
     "metadata": {},
     "output_type": "display_data"
    },
    {
     "name": "stdout",
     "output_type": "stream",
     "text": [
      "[ 1  1  1  1  1  1  1  1  1  1  2  2  2  2  2  2  2  2  2  2  3  3  3  3\n",
      "  3  3  3  3  3  3  4  4  4  4  4  4  4  4  4  4  5  5  5  5  5  5  5  5\n",
      "  5  5  6  6  6  6  6  6  6  6  6  6  7  7  7  7  7  7  7  7  7  7  8  8\n",
      "  8  8  8  8  8  8  8  8  9  9  9  9  9  9  9  9  9  9 10 10 10 10 10 10\n",
      " 10 10 10 10]\n",
      "[ 7  7  9  7  8  1  1  7  9  1  8  3  2  3  2  3  2  2  2  3  8  3  3  3\n",
      "  3  3  3  3  3  2  8  4 10  8  8  6  6  6  6  6  5  4  5  5  5  5  5  5\n",
      "  5  5  4  4  4  4  4  4  4  6  4  7  7  7  7  7  7  7  7  7  7  7  5 10\n",
      " 10 10 10 10  5 10  5  8  6  8  3  3  3  3  3  3  3  8  6 10  5 10 10 10\n",
      " 10 10 10  8]\n"
     ]
    },
    {
     "name": "stderr",
     "output_type": "stream",
     "text": [
      "/var/folders/zn/_2h7w2j547357vpm3_5pxrsr0000gn/T/ipykernel_1181/2559922313.py:61: FutureWarning: Unlike other reduction functions (e.g. `skew`, `kurtosis`), the default behavior of `mode` typically preserves the axis it acts along. In SciPy 1.11.0, this behavior will change: the default value of `keepdims` will become False, the `axis` over which the statistic is taken will be eliminated, and the value None will no longer be accepted. Set `keepdims` to True or False to avoid this warning.\n",
      "  prediction = mode(knn_labels, axis=1)[0]\n"
     ]
    },
    {
     "data": {
      "application/vnd.jupyter.widget-view+json": {
       "model_id": "0093ad7b750842c38c0ae81ec20253d9",
       "version_major": 2,
       "version_minor": 0
      },
      "text/plain": [
       "  0%|          | 0/100 [00:00<?, ?it/s]"
      ]
     },
     "metadata": {},
     "output_type": "display_data"
    },
    {
     "name": "stdout",
     "output_type": "stream",
     "text": [
      "[ 1  1  1  1  1  1  1  1  1  1  2  2  2  2  2  2  2  2  2  2  3  3  3  3\n",
      "  3  3  3  3  3  3  4  4  4  4  4  4  4  4  4  4  5  5  5  5  5  5  5  5\n",
      "  5  5  6  6  6  6  6  6  6  6  6  6  7  7  7  7  7  7  7  7  7  7  8  8\n",
      "  8  8  8  8  8  8  8  8  9  9  9  9  9  9  9  9  9  9 10 10 10 10 10 10\n",
      " 10 10 10 10]\n",
      "[8 8 8 8 8 8 8 8 8 8 2 2 2 2 2 7 7 7 4 7 7 3 3 2 3 3 2 2 3 3 5 4 4 4 4 5 4\n",
      " 6 1 4 4 5 4 4 5 5 5 5 5 4 7 4 4 6 4 1 4 4 6 4 8 8 8 7 8 7 7 7 7 7 8 8 8 8\n",
      " 8 8 8 8 4 8 1 1 8 1 1 1 1 9 9 9 8 8 8 8 8 8 8 8 8 8]\n"
     ]
    },
    {
     "name": "stderr",
     "output_type": "stream",
     "text": [
      "/var/folders/zn/_2h7w2j547357vpm3_5pxrsr0000gn/T/ipykernel_1181/2559922313.py:61: FutureWarning: Unlike other reduction functions (e.g. `skew`, `kurtosis`), the default behavior of `mode` typically preserves the axis it acts along. In SciPy 1.11.0, this behavior will change: the default value of `keepdims` will become False, the `axis` over which the statistic is taken will be eliminated, and the value None will no longer be accepted. Set `keepdims` to True or False to avoid this warning.\n",
      "  prediction = mode(knn_labels, axis=1)[0]\n"
     ]
    },
    {
     "data": {
      "application/vnd.jupyter.widget-view+json": {
       "model_id": "9f54c9b513b049b7996eb8502913be80",
       "version_major": 2,
       "version_minor": 0
      },
      "text/plain": [
       "  0%|          | 0/100 [00:00<?, ?it/s]"
      ]
     },
     "metadata": {},
     "output_type": "display_data"
    },
    {
     "ename": "KeyboardInterrupt",
     "evalue": "",
     "output_type": "error",
     "traceback": [
      "\u001b[0;31m---------------------------------------------------------------------------\u001b[0m",
      "\u001b[0;31mKeyboardInterrupt\u001b[0m                         Traceback (most recent call last)",
      "\u001b[0;32m/var/folders/zn/_2h7w2j547357vpm3_5pxrsr0000gn/T/ipykernel_1181/1079916090.py\u001b[0m in \u001b[0;36m<module>\u001b[0;34m\u001b[0m\n\u001b[1;32m      1\u001b[0m \u001b[0mknn\u001b[0m \u001b[0;34m=\u001b[0m \u001b[0mKNN\u001b[0m\u001b[0;34m(\u001b[0m\u001b[0mn_neighbors\u001b[0m\u001b[0;34m=\u001b[0m\u001b[0;36m1\u001b[0m\u001b[0;34m,\u001b[0m \u001b[0mwindow\u001b[0m\u001b[0;34m=\u001b[0m\u001b[0;36m3\u001b[0m\u001b[0;34m,\u001b[0m \u001b[0mdistance_fun\u001b[0m\u001b[0;34m=\u001b[0m\u001b[0mDTW_distance\u001b[0m\u001b[0;34m)\u001b[0m\u001b[0;34m\u001b[0m\u001b[0;34m\u001b[0m\u001b[0m\n\u001b[1;32m      2\u001b[0m \u001b[0;34m\u001b[0m\u001b[0m\n\u001b[0;32m----> 3\u001b[0;31m \u001b[0maccuracy_mean\u001b[0m\u001b[0;34m,\u001b[0m \u001b[0maccuracy_std\u001b[0m \u001b[0;34m=\u001b[0m \u001b[0muser_independent_cross_validation\u001b[0m\u001b[0;34m(\u001b[0m\u001b[0mestimator\u001b[0m\u001b[0;34m=\u001b[0m\u001b[0mknn\u001b[0m\u001b[0;34m,\u001b[0m \u001b[0mX\u001b[0m\u001b[0;34m=\u001b[0m\u001b[0mX\u001b[0m\u001b[0;34m,\u001b[0m \u001b[0my\u001b[0m\u001b[0;34m=\u001b[0m\u001b[0my\u001b[0m\u001b[0;34m)\u001b[0m\u001b[0;34m\u001b[0m\u001b[0;34m\u001b[0m\u001b[0m\n\u001b[0m\u001b[1;32m      4\u001b[0m \u001b[0;34m\u001b[0m\u001b[0m\n\u001b[1;32m      5\u001b[0m \u001b[0mprint\u001b[0m\u001b[0;34m(\u001b[0m\u001b[0;34m\"DOMAIN 01 - DYNAMIC TIME WARPING\"\u001b[0m\u001b[0;34m)\u001b[0m\u001b[0;34m\u001b[0m\u001b[0;34m\u001b[0m\u001b[0m\n",
      "\u001b[0;32m/var/folders/zn/_2h7w2j547357vpm3_5pxrsr0000gn/T/ipykernel_1181/1611122564.py\u001b[0m in \u001b[0;36muser_independent_cross_validation\u001b[0;34m(estimator, X, y)\u001b[0m\n\u001b[1;32m     18\u001b[0m \u001b[0;34m\u001b[0m\u001b[0m\n\u001b[1;32m     19\u001b[0m                 \u001b[0mestimator\u001b[0m\u001b[0;34m.\u001b[0m\u001b[0mfit\u001b[0m\u001b[0;34m(\u001b[0m\u001b[0mX_train\u001b[0m\u001b[0;34m,\u001b[0m \u001b[0my_train\u001b[0m\u001b[0;34m)\u001b[0m\u001b[0;34m\u001b[0m\u001b[0;34m\u001b[0m\u001b[0m\n\u001b[0;32m---> 20\u001b[0;31m                 \u001b[0my_pred\u001b[0m \u001b[0;34m=\u001b[0m \u001b[0mestimator\u001b[0m\u001b[0;34m.\u001b[0m\u001b[0mpredict\u001b[0m\u001b[0;34m(\u001b[0m\u001b[0mX_test\u001b[0m\u001b[0;34m)\u001b[0m\u001b[0;34m\u001b[0m\u001b[0;34m\u001b[0m\u001b[0m\n\u001b[0m\u001b[1;32m     21\u001b[0m \u001b[0;34m\u001b[0m\u001b[0m\n\u001b[1;32m     22\u001b[0m                 \u001b[0mprint\u001b[0m\u001b[0;34m(\u001b[0m\u001b[0my_test\u001b[0m\u001b[0;34m)\u001b[0m\u001b[0;34m\u001b[0m\u001b[0;34m\u001b[0m\u001b[0m\n",
      "\u001b[0;32m/var/folders/zn/_2h7w2j547357vpm3_5pxrsr0000gn/T/ipykernel_1181/2559922313.py\u001b[0m in \u001b[0;36mpredict\u001b[0;34m(self, X)\u001b[0m\n\u001b[1;32m     54\u001b[0m                         \u001b[0mArray\u001b[0m \u001b[0mof\u001b[0m \u001b[0mpredicted\u001b[0m \u001b[0mtarget\u001b[0m \u001b[0mvalues\u001b[0m\u001b[0;34m\u001b[0m\u001b[0;34m\u001b[0m\u001b[0m\n\u001b[1;32m     55\u001b[0m \t\t\"\"\"\n\u001b[0;32m---> 56\u001b[0;31m                 \u001b[0mdistance_matrix\u001b[0m \u001b[0;34m=\u001b[0m \u001b[0mself\u001b[0m\u001b[0;34m.\u001b[0m\u001b[0mdistance_matrix\u001b[0m\u001b[0;34m(\u001b[0m\u001b[0mself\u001b[0m\u001b[0;34m.\u001b[0m\u001b[0mX\u001b[0m\u001b[0;34m,\u001b[0m \u001b[0mX\u001b[0m\u001b[0;34m)\u001b[0m\u001b[0;34m\u001b[0m\u001b[0;34m\u001b[0m\u001b[0m\n\u001b[0m\u001b[1;32m     57\u001b[0m \u001b[0;34m\u001b[0m\u001b[0m\n\u001b[1;32m     58\u001b[0m                 \u001b[0mknn_idx\u001b[0m \u001b[0;34m=\u001b[0m \u001b[0mdistance_matrix\u001b[0m\u001b[0;34m.\u001b[0m\u001b[0margsort\u001b[0m\u001b[0;34m(\u001b[0m\u001b[0;34m)\u001b[0m\u001b[0;34m[\u001b[0m\u001b[0;34m:\u001b[0m\u001b[0;34m,\u001b[0m \u001b[0;34m:\u001b[0m\u001b[0mself\u001b[0m\u001b[0;34m.\u001b[0m\u001b[0mn_neigbors\u001b[0m\u001b[0;34m]\u001b[0m\u001b[0;34m\u001b[0m\u001b[0;34m\u001b[0m\u001b[0m\n",
      "\u001b[0;32m/var/folders/zn/_2h7w2j547357vpm3_5pxrsr0000gn/T/ipykernel_1181/2559922313.py\u001b[0m in \u001b[0;36mdistance_matrix\u001b[0;34m(self, X_train, X_test)\u001b[0m\n\u001b[1;32m     34\u001b[0m                         \u001b[0;32mfor\u001b[0m \u001b[0mj\u001b[0m \u001b[0;32min\u001b[0m \u001b[0mrange\u001b[0m\u001b[0;34m(\u001b[0m\u001b[0;36m0\u001b[0m\u001b[0;34m,\u001b[0m \u001b[0mm\u001b[0m\u001b[0;34m)\u001b[0m\u001b[0;34m:\u001b[0m\u001b[0;34m\u001b[0m\u001b[0;34m\u001b[0m\u001b[0m\n\u001b[1;32m     35\u001b[0m                                 \u001b[0;31m#if lb_keogh(X_train[j], X_test[i], window=self.window) < min_dist:\u001b[0m\u001b[0;34m\u001b[0m\u001b[0;34m\u001b[0m\u001b[0m\n\u001b[0;32m---> 36\u001b[0;31m                                 \u001b[0mdist\u001b[0m \u001b[0;34m=\u001b[0m \u001b[0mself\u001b[0m\u001b[0;34m.\u001b[0m\u001b[0mdistance_fun\u001b[0m\u001b[0;34m(\u001b[0m\u001b[0mX_test\u001b[0m\u001b[0;34m[\u001b[0m\u001b[0mi\u001b[0m\u001b[0;34m]\u001b[0m\u001b[0;34m,\u001b[0m \u001b[0mX_train\u001b[0m\u001b[0;34m[\u001b[0m\u001b[0mj\u001b[0m\u001b[0;34m]\u001b[0m\u001b[0;34m,\u001b[0m \u001b[0mwindow\u001b[0m\u001b[0;34m=\u001b[0m\u001b[0mself\u001b[0m\u001b[0;34m.\u001b[0m\u001b[0mwindow\u001b[0m\u001b[0;34m)\u001b[0m\u001b[0;34m\u001b[0m\u001b[0;34m\u001b[0m\u001b[0m\n\u001b[0m\u001b[1;32m     37\u001b[0m                                 \u001b[0mdistance_matrix\u001b[0m\u001b[0;34m[\u001b[0m\u001b[0mi\u001b[0m\u001b[0;34m,\u001b[0m \u001b[0mj\u001b[0m\u001b[0;34m]\u001b[0m \u001b[0;34m=\u001b[0m \u001b[0mdist\u001b[0m\u001b[0;34m\u001b[0m\u001b[0;34m\u001b[0m\u001b[0m\n\u001b[1;32m     38\u001b[0m                                         \u001b[0;31m#if dist < min_dist:\u001b[0m\u001b[0;34m\u001b[0m\u001b[0;34m\u001b[0m\u001b[0m\n",
      "\u001b[0;32m/var/folders/zn/_2h7w2j547357vpm3_5pxrsr0000gn/T/ipykernel_1181/2663875528.py\u001b[0m in \u001b[0;36mDTW_distance\u001b[0;34m(s, t, window)\u001b[0m\n\u001b[1;32m     16\u001b[0m                 \u001b[0;32mfor\u001b[0m \u001b[0mj\u001b[0m \u001b[0;32min\u001b[0m \u001b[0mrange\u001b[0m\u001b[0;34m(\u001b[0m\u001b[0mmax\u001b[0m\u001b[0;34m(\u001b[0m\u001b[0;36m1\u001b[0m\u001b[0;34m,\u001b[0m \u001b[0mi\u001b[0m \u001b[0;34m-\u001b[0m \u001b[0mwindow\u001b[0m\u001b[0;34m)\u001b[0m\u001b[0;34m,\u001b[0m \u001b[0mmin\u001b[0m\u001b[0;34m(\u001b[0m\u001b[0mm\u001b[0m\u001b[0;34m,\u001b[0m \u001b[0mi\u001b[0m \u001b[0;34m+\u001b[0m \u001b[0mwindow\u001b[0m\u001b[0;34m)\u001b[0m \u001b[0;34m+\u001b[0m \u001b[0;36m1\u001b[0m\u001b[0;34m)\u001b[0m\u001b[0;34m:\u001b[0m\u001b[0;34m\u001b[0m\u001b[0;34m\u001b[0m\u001b[0m\n\u001b[1;32m     17\u001b[0m                         \u001b[0;31m# manhattan distance\u001b[0m\u001b[0;34m\u001b[0m\u001b[0;34m\u001b[0m\u001b[0m\n\u001b[0;32m---> 18\u001b[0;31m                         \u001b[0mcost\u001b[0m \u001b[0;34m=\u001b[0m \u001b[0mdistance\u001b[0m\u001b[0;34m.\u001b[0m\u001b[0mcityblock\u001b[0m\u001b[0;34m(\u001b[0m\u001b[0ms\u001b[0m\u001b[0;34m[\u001b[0m\u001b[0mi\u001b[0m\u001b[0;34m-\u001b[0m\u001b[0;36m1\u001b[0m\u001b[0;34m]\u001b[0m\u001b[0;34m,\u001b[0m \u001b[0mt\u001b[0m\u001b[0;34m[\u001b[0m\u001b[0mj\u001b[0m\u001b[0;34m-\u001b[0m\u001b[0;36m1\u001b[0m\u001b[0;34m]\u001b[0m\u001b[0;34m)\u001b[0m\u001b[0;34m\u001b[0m\u001b[0;34m\u001b[0m\u001b[0m\n\u001b[0m\u001b[1;32m     19\u001b[0m \t\t\toptimal_warping_path = min(\n\u001b[1;32m     20\u001b[0m                                 \u001b[0mDTW_matrix\u001b[0m\u001b[0;34m[\u001b[0m\u001b[0mi\u001b[0m\u001b[0;34m-\u001b[0m\u001b[0;36m1\u001b[0m\u001b[0;34m,\u001b[0m \u001b[0mj\u001b[0m\u001b[0;34m]\u001b[0m\u001b[0;34m,\u001b[0m \u001b[0;31m# insertion\u001b[0m\u001b[0;34m\u001b[0m\u001b[0;34m\u001b[0m\u001b[0m\n",
      "\u001b[0;32m~/opt/anaconda3/lib/python3.9/site-packages/scipy/spatial/distance.py\u001b[0m in \u001b[0;36mcityblock\u001b[0;34m(u, v, w)\u001b[0m\n\u001b[1;32m   1011\u001b[0m     \u001b[0mu\u001b[0m \u001b[0;34m=\u001b[0m \u001b[0m_validate_vector\u001b[0m\u001b[0;34m(\u001b[0m\u001b[0mu\u001b[0m\u001b[0;34m)\u001b[0m\u001b[0;34m\u001b[0m\u001b[0;34m\u001b[0m\u001b[0m\n\u001b[1;32m   1012\u001b[0m     \u001b[0mv\u001b[0m \u001b[0;34m=\u001b[0m \u001b[0m_validate_vector\u001b[0m\u001b[0;34m(\u001b[0m\u001b[0mv\u001b[0m\u001b[0;34m)\u001b[0m\u001b[0;34m\u001b[0m\u001b[0;34m\u001b[0m\u001b[0m\n\u001b[0;32m-> 1013\u001b[0;31m     \u001b[0ml1_diff\u001b[0m \u001b[0;34m=\u001b[0m \u001b[0mabs\u001b[0m\u001b[0;34m(\u001b[0m\u001b[0mu\u001b[0m \u001b[0;34m-\u001b[0m \u001b[0mv\u001b[0m\u001b[0;34m)\u001b[0m\u001b[0;34m\u001b[0m\u001b[0;34m\u001b[0m\u001b[0m\n\u001b[0m\u001b[1;32m   1014\u001b[0m     \u001b[0;32mif\u001b[0m \u001b[0mw\u001b[0m \u001b[0;32mis\u001b[0m \u001b[0;32mnot\u001b[0m \u001b[0;32mNone\u001b[0m\u001b[0;34m:\u001b[0m\u001b[0;34m\u001b[0m\u001b[0;34m\u001b[0m\u001b[0m\n\u001b[1;32m   1015\u001b[0m         \u001b[0mw\u001b[0m \u001b[0;34m=\u001b[0m \u001b[0m_validate_weights\u001b[0m\u001b[0;34m(\u001b[0m\u001b[0mw\u001b[0m\u001b[0;34m)\u001b[0m\u001b[0;34m\u001b[0m\u001b[0;34m\u001b[0m\u001b[0m\n",
      "\u001b[0;31mKeyboardInterrupt\u001b[0m: "
     ]
    }
   ],
   "source": [
    "knn = KNN(n_neighbors=1, window=3, distance_fun=DTW_distance)\n",
    "\n",
    "dtw_accuracy_mean, dtw_accuracy_std = user_independent_cross_validation(estimator=knn, X=X, y=y)\n",
    "\n",
    "print(\"DOMAIN 01 - DYNAMIC TIME WARPING\")\n",
    "\n",
    "print(\"USER INDEPENDENT CROSS VALIDATION\")\n",
    "print(f\"mean accuracy: {np.round(dtw_accuracy_mean, 3)}\")\n",
    "print(f\"std accuracy: {np.round(dtw_accuracy_std, 3)}\")"
   ]
  },
  {
   "attachments": {},
   "cell_type": "markdown",
   "metadata": {},
   "source": [
    "### $P Recognizer"
   ]
  },
  {
   "cell_type": "code",
   "execution_count": 35,
   "metadata": {},
   "outputs": [
    {
     "data": {
      "application/vnd.jupyter.widget-view+json": {
       "model_id": "6afd075e97754802a90a4a0ad467aba1",
       "version_major": 2,
       "version_minor": 0
      },
      "text/plain": [
       "  0%|          | 0/100 [00:00<?, ?it/s]"
      ]
     },
     "metadata": {},
     "output_type": "display_data"
    },
    {
     "name": "stdout",
     "output_type": "stream",
     "text": [
      "[ 1  1  1  1  1  1  1  1  1  1  2  2  2  2  2  2  2  2  2  2  3  3  3  3\n",
      "  3  3  3  3  3  3  4  4  4  4  4  4  4  4  4  4  5  5  5  5  5  5  5  5\n",
      "  5  5  6  6  6  6  6  6  6  6  6  6  7  7  7  7  7  7  7  7  7  7  8  8\n",
      "  8  8  8  8  8  8  8  8  9  9  9  9  9  9  9  9  9  9 10 10 10 10 10 10\n",
      " 10 10 10 10]\n",
      "[1, 1, 1, 1, 1, 1, 1, 1, 1, 1, 2, 2, 2, 2, 2, 2, 8, 2, 2, 2, 3, 3, 3, 3, 7, 3, 3, 3, 3, 3, 4, 4, 4, 4, 4, 4, 4, 7, 4, 7, 5, 5, 5, 5, 5, 5, 5, 5, 5, 5, 6, 6, 7, 6, 6, 10, 8, 6, 7, 6, 7, 7, 7, 7, 7, 7, 1, 1, 1, 7, 8, 8, 8, 8, 8, 8, 8, 8, 8, 8, 9, 9, 9, 9, 9, 9, 9, 9, 9, 9, 10, 10, 10, 10, 10, 10, 10, 10, 10, 10]\n"
     ]
    },
    {
     "data": {
      "application/vnd.jupyter.widget-view+json": {
       "model_id": "c99cd7d182ab4b798b6d6547416c8258",
       "version_major": 2,
       "version_minor": 0
      },
      "text/plain": [
       "  0%|          | 0/100 [00:00<?, ?it/s]"
      ]
     },
     "metadata": {},
     "output_type": "display_data"
    },
    {
     "name": "stdout",
     "output_type": "stream",
     "text": [
      "[ 1  1  1  1  1  1  1  1  1  1  2  2  2  2  2  2  2  2  2  2  3  3  3  3\n",
      "  3  3  3  3  3  3  4  4  4  4  4  4  4  4  4  4  5  5  5  5  5  5  5  5\n",
      "  5  5  6  6  6  6  6  6  6  6  6  6  7  7  7  7  7  7  7  7  7  7  8  8\n",
      "  8  8  8  8  8  8  8  8  9  9  9  9  9  9  9  9  9  9 10 10 10 10 10 10\n",
      " 10 10 10 10]\n",
      "[1, 1, 1, 1, 1, 1, 1, 1, 1, 1, 2, 2, 2, 2, 2, 2, 2, 2, 2, 5, 3, 3, 3, 3, 3, 3, 3, 3, 3, 3, 4, 4, 4, 4, 4, 4, 4, 7, 10, 4, 5, 5, 5, 5, 5, 5, 5, 5, 5, 5, 6, 7, 6, 6, 6, 6, 6, 6, 6, 6, 7, 7, 7, 7, 7, 7, 7, 7, 7, 7, 8, 8, 8, 8, 4, 8, 8, 8, 10, 8, 9, 9, 9, 9, 9, 9, 9, 9, 9, 9, 10, 10, 10, 10, 10, 10, 10, 10, 10, 10]\n"
     ]
    },
    {
     "data": {
      "application/vnd.jupyter.widget-view+json": {
       "model_id": "0c0b440a587c4b7ea0fd8a642a92ace4",
       "version_major": 2,
       "version_minor": 0
      },
      "text/plain": [
       "  0%|          | 0/100 [00:00<?, ?it/s]"
      ]
     },
     "metadata": {},
     "output_type": "display_data"
    },
    {
     "name": "stdout",
     "output_type": "stream",
     "text": [
      "[ 1  1  1  1  1  1  1  1  1  1  2  2  2  2  2  2  2  2  2  2  3  3  3  3\n",
      "  3  3  3  3  3  3  4  4  4  4  4  4  4  4  4  4  5  5  5  5  5  5  5  5\n",
      "  5  5  6  6  6  6  6  6  6  6  6  6  7  7  7  7  7  7  7  7  7  7  8  8\n",
      "  8  8  8  8  8  8  8  8  9  9  9  9  9  9  9  9  9  9 10 10 10 10 10 10\n",
      " 10 10 10 10]\n",
      "[1, 1, 1, 1, 1, 1, 1, 1, 1, 1, 2, 2, 2, 2, 2, 2, 2, 2, 2, 2, 3, 3, 3, 3, 3, 3, 3, 3, 3, 3, 7, 4, 4, 4, 4, 4, 4, 4, 10, 4, 5, 5, 5, 5, 5, 5, 5, 5, 5, 5, 7, 1, 7, 6, 6, 6, 7, 6, 6, 6, 7, 7, 7, 7, 3, 7, 7, 7, 7, 3, 8, 8, 8, 8, 8, 8, 8, 8, 8, 8, 9, 9, 9, 9, 9, 9, 9, 9, 9, 9, 5, 10, 10, 10, 10, 10, 10, 10, 10, 10]\n"
     ]
    },
    {
     "data": {
      "application/vnd.jupyter.widget-view+json": {
       "model_id": "9e1779d69f0b4bfb90960866676e8e47",
       "version_major": 2,
       "version_minor": 0
      },
      "text/plain": [
       "  0%|          | 0/100 [00:00<?, ?it/s]"
      ]
     },
     "metadata": {},
     "output_type": "display_data"
    },
    {
     "name": "stdout",
     "output_type": "stream",
     "text": [
      "[ 1  1  1  1  1  1  1  1  1  1  2  2  2  2  2  2  2  2  2  2  3  3  3  3\n",
      "  3  3  3  3  3  3  4  4  4  4  4  4  4  4  4  4  5  5  5  5  5  5  5  5\n",
      "  5  5  6  6  6  6  6  6  6  6  6  6  7  7  7  7  7  7  7  7  7  7  8  8\n",
      "  8  8  8  8  8  8  8  8  9  9  9  9  9  9  9  9  9  9 10 10 10 10 10 10\n",
      " 10 10 10 10]\n",
      "[1, 1, 1, 1, 1, 1, 1, 1, 1, 1, 2, 2, 2, 2, 2, 2, 2, 2, 2, 2, 3, 3, 3, 3, 3, 3, 3, 3, 3, 7, 4, 4, 4, 4, 4, 4, 4, 4, 4, 4, 5, 4, 5, 5, 5, 5, 5, 5, 5, 5, 6, 6, 6, 6, 6, 6, 6, 6, 6, 4, 1, 7, 7, 1, 7, 1, 7, 7, 7, 7, 8, 8, 8, 8, 8, 8, 8, 8, 8, 8, 9, 9, 9, 9, 9, 9, 9, 9, 9, 9, 10, 10, 10, 10, 10, 10, 10, 10, 10, 10]\n"
     ]
    },
    {
     "data": {
      "application/vnd.jupyter.widget-view+json": {
       "model_id": "adb895b9fca240499309d4b7d439ffb1",
       "version_major": 2,
       "version_minor": 0
      },
      "text/plain": [
       "  0%|          | 0/100 [00:00<?, ?it/s]"
      ]
     },
     "metadata": {},
     "output_type": "display_data"
    },
    {
     "name": "stdout",
     "output_type": "stream",
     "text": [
      "[ 1  1  1  1  1  1  1  1  1  1  2  2  2  2  2  2  2  2  2  2  3  3  3  3\n",
      "  3  3  3  3  3  3  4  4  4  4  4  4  4  4  4  4  5  5  5  5  5  5  5  5\n",
      "  5  5  6  6  6  6  6  6  6  6  6  6  7  7  7  7  7  7  7  7  7  7  8  8\n",
      "  8  8  8  8  8  8  8  8  9  9  9  9  9  9  9  9  9  9 10 10 10 10 10 10\n",
      " 10 10 10 10]\n",
      "[1, 1, 1, 1, 1, 1, 1, 1, 1, 1, 2, 2, 2, 2, 2, 2, 2, 2, 2, 2, 3, 3, 3, 3, 3, 3, 3, 3, 3, 3, 4, 4, 4, 4, 4, 4, 7, 4, 4, 4, 5, 5, 5, 5, 5, 5, 5, 5, 5, 5, 6, 6, 6, 6, 6, 6, 6, 7, 6, 6, 7, 7, 7, 7, 7, 7, 7, 7, 7, 7, 8, 8, 8, 8, 8, 8, 8, 8, 8, 8, 9, 9, 9, 9, 9, 9, 9, 9, 9, 9, 10, 10, 10, 10, 10, 10, 10, 10, 10, 10]\n"
     ]
    },
    {
     "data": {
      "application/vnd.jupyter.widget-view+json": {
       "model_id": "d6d3c343406d42f5a05c8919dc9ef809",
       "version_major": 2,
       "version_minor": 0
      },
      "text/plain": [
       "  0%|          | 0/100 [00:00<?, ?it/s]"
      ]
     },
     "metadata": {},
     "output_type": "display_data"
    },
    {
     "name": "stdout",
     "output_type": "stream",
     "text": [
      "[ 1  1  1  1  1  1  1  1  1  1  2  2  2  2  2  2  2  2  2  2  3  3  3  3\n",
      "  3  3  3  3  3  3  4  4  4  4  4  4  4  4  4  4  5  5  5  5  5  5  5  5\n",
      "  5  5  6  6  6  6  6  6  6  6  6  6  7  7  7  7  7  7  7  7  7  7  8  8\n",
      "  8  8  8  8  8  8  8  8  9  9  9  9  9  9  9  9  9  9 10 10 10 10 10 10\n",
      " 10 10 10 10]\n",
      "[1, 1, 1, 1, 1, 1, 1, 1, 1, 1, 2, 2, 2, 2, 2, 2, 2, 2, 2, 2, 3, 3, 3, 3, 3, 3, 3, 4, 4, 3, 4, 7, 4, 4, 4, 4, 4, 4, 4, 4, 5, 5, 5, 5, 5, 5, 5, 5, 5, 5, 6, 6, 6, 6, 6, 6, 6, 6, 6, 6, 7, 7, 7, 7, 7, 7, 7, 7, 7, 7, 8, 8, 8, 8, 8, 8, 8, 8, 8, 8, 9, 9, 9, 9, 9, 9, 9, 9, 9, 9, 10, 10, 10, 10, 10, 10, 10, 10, 10, 10]\n"
     ]
    },
    {
     "data": {
      "application/vnd.jupyter.widget-view+json": {
       "model_id": "f6fde17f2658468b8ecf65a046a00b57",
       "version_major": 2,
       "version_minor": 0
      },
      "text/plain": [
       "  0%|          | 0/100 [00:00<?, ?it/s]"
      ]
     },
     "metadata": {},
     "output_type": "display_data"
    },
    {
     "name": "stdout",
     "output_type": "stream",
     "text": [
      "[ 1  1  1  1  1  1  1  1  1  1  2  2  2  2  2  2  2  2  2  2  3  3  3  3\n",
      "  3  3  3  3  3  3  4  4  4  4  4  4  4  4  4  4  5  5  5  5  5  5  5  5\n",
      "  5  5  6  6  6  6  6  6  6  6  6  6  7  7  7  7  7  7  7  7  7  7  8  8\n",
      "  8  8  8  8  8  8  8  8  9  9  9  9  9  9  9  9  9  9 10 10 10 10 10 10\n",
      " 10 10 10 10]\n",
      "[1, 1, 1, 1, 1, 1, 1, 1, 1, 1, 2, 2, 2, 2, 2, 2, 2, 2, 2, 2, 4, 2, 3, 4, 3, 3, 3, 3, 3, 3, 4, 4, 4, 4, 4, 4, 4, 4, 4, 6, 5, 5, 5, 5, 5, 5, 5, 5, 5, 5, 6, 6, 6, 6, 6, 6, 6, 6, 6, 6, 7, 7, 7, 7, 7, 6, 3, 6, 6, 6, 8, 8, 8, 8, 8, 8, 8, 8, 8, 8, 9, 9, 9, 9, 9, 9, 9, 9, 9, 9, 10, 10, 10, 10, 10, 10, 10, 10, 10, 10]\n"
     ]
    },
    {
     "data": {
      "application/vnd.jupyter.widget-view+json": {
       "model_id": "a3b43915983f44739d7dbac93bdfba04",
       "version_major": 2,
       "version_minor": 0
      },
      "text/plain": [
       "  0%|          | 0/100 [00:00<?, ?it/s]"
      ]
     },
     "metadata": {},
     "output_type": "display_data"
    },
    {
     "name": "stdout",
     "output_type": "stream",
     "text": [
      "[ 1  1  1  1  1  1  1  1  1  1  2  2  2  2  2  2  2  2  2  2  3  3  3  3\n",
      "  3  3  3  3  3  3  4  4  4  4  4  4  4  4  4  4  5  5  5  5  5  5  5  5\n",
      "  5  5  6  6  6  6  6  6  6  6  6  6  7  7  7  7  7  7  7  7  7  7  8  8\n",
      "  8  8  8  8  8  8  8  8  9  9  9  9  9  9  9  9  9  9 10 10 10 10 10 10\n",
      " 10 10 10 10]\n",
      "[1, 1, 1, 1, 1, 1, 1, 1, 1, 1, 2, 2, 2, 2, 2, 2, 2, 2, 2, 2, 3, 7, 3, 3, 7, 3, 3, 3, 3, 3, 6, 4, 4, 4, 4, 4, 4, 4, 4, 4, 5, 5, 5, 5, 2, 5, 5, 5, 5, 5, 1, 1, 6, 6, 1, 6, 6, 1, 1, 1, 7, 7, 7, 7, 7, 7, 7, 7, 7, 7, 8, 8, 8, 8, 8, 8, 8, 8, 8, 8, 9, 9, 9, 9, 9, 9, 9, 9, 9, 9, 10, 10, 10, 10, 10, 10, 10, 10, 10, 10]\n"
     ]
    },
    {
     "data": {
      "application/vnd.jupyter.widget-view+json": {
       "model_id": "9c97b66b5be54fb5b87e5015a39d1506",
       "version_major": 2,
       "version_minor": 0
      },
      "text/plain": [
       "  0%|          | 0/100 [00:00<?, ?it/s]"
      ]
     },
     "metadata": {},
     "output_type": "display_data"
    },
    {
     "name": "stdout",
     "output_type": "stream",
     "text": [
      "[ 1  1  1  1  1  1  1  1  1  1  2  2  2  2  2  2  2  2  2  2  3  3  3  3\n",
      "  3  3  3  3  3  3  4  4  4  4  4  4  4  4  4  4  5  5  5  5  5  5  5  5\n",
      "  5  5  6  6  6  6  6  6  6  6  6  6  7  7  7  7  7  7  7  7  7  7  8  8\n",
      "  8  8  8  8  8  8  8  8  9  9  9  9  9  9  9  9  9  9 10 10 10 10 10 10\n",
      " 10 10 10 10]\n",
      "[1, 1, 1, 1, 1, 1, 1, 1, 1, 1, 2, 2, 2, 2, 2, 5, 2, 2, 3, 2, 6, 7, 2, 6, 3, 3, 3, 3, 2, 3, 4, 4, 4, 4, 4, 4, 4, 4, 4, 4, 5, 5, 5, 5, 5, 5, 5, 5, 5, 5, 6, 6, 6, 6, 6, 6, 6, 6, 6, 6, 1, 7, 7, 7, 7, 1, 7, 7, 7, 7, 8, 8, 8, 8, 8, 8, 8, 8, 5, 8, 9, 9, 9, 9, 9, 9, 9, 9, 9, 9, 10, 10, 10, 10, 10, 10, 10, 10, 10, 10]\n"
     ]
    },
    {
     "data": {
      "application/vnd.jupyter.widget-view+json": {
       "model_id": "9a8fdb3b7516405caa6c818ba2d62e35",
       "version_major": 2,
       "version_minor": 0
      },
      "text/plain": [
       "  0%|          | 0/100 [00:00<?, ?it/s]"
      ]
     },
     "metadata": {},
     "output_type": "display_data"
    },
    {
     "name": "stdout",
     "output_type": "stream",
     "text": [
      "[ 1  1  1  1  1  1  1  1  1  1  2  2  2  2  2  2  2  2  2  2  3  3  3  3\n",
      "  3  3  3  3  3  3  4  4  4  4  4  4  4  4  4  4  5  5  5  5  5  5  5  5\n",
      "  5  5  6  6  6  6  6  6  6  6  6  6  7  7  7  7  7  7  7  7  7  7  8  8\n",
      "  8  8  8  8  8  8  8  8  9  9  9  9  9  9  9  9  9  9 10 10 10 10 10 10\n",
      " 10 10 10 10]\n",
      "[7, 1, 1, 1, 1, 1, 1, 1, 1, 1, 2, 2, 2, 2, 2, 2, 2, 2, 2, 2, 4, 9, 3, 3, 3, 3, 3, 3, 3, 3, 4, 4, 4, 4, 4, 4, 4, 6, 4, 4, 5, 5, 5, 5, 5, 5, 5, 5, 5, 5, 4, 6, 6, 6, 6, 6, 6, 6, 6, 6, 7, 10, 7, 9, 7, 7, 9, 7, 7, 7, 8, 8, 8, 8, 8, 8, 8, 8, 8, 8, 9, 9, 9, 9, 9, 9, 9, 9, 9, 9, 10, 10, 10, 10, 10, 10, 10, 6, 10, 10]\n",
      "DOMAIN 01 - $P Recognizer\n",
      "USER INDEPENDENT CROSS VALIDATION\n",
      "mean accuracy: 0.925\n",
      "std accuracy: 0.029\n"
     ]
    }
   ],
   "source": [
    "class PointCloudRecognizer:\n",
    "\tdef __init__(self):\n",
    "\t\tself.recognizer = None\n",
    "\n",
    "\tdef fit(self, X: npt.NDArray, y: npt.NDArray):\n",
    "\t\t\"\"\"_summary_\n",
    "\n",
    "\t\tParameters\n",
    "\t\t----------\n",
    "\t\tX : npt.NDArray, shape (n_samples, n_timepoints, vec_dimension)\n",
    "\t\t\tTraining data\n",
    "\t\ty : npt.NDArray, shape (n_samples,)\n",
    "\t\t\tTraining target values\n",
    "\n",
    "\t\tReturns\n",
    "\t\t-------\n",
    "\t\t_type_\n",
    "\t\t\t_description_\n",
    "\t\t\"\"\"\n",
    "\t\tself.X = X\n",
    "\t\tself.y = y\n",
    "\n",
    "\t\ttraining_data = []\n",
    "\t\t# for each vector of data points\n",
    "\t\tfor (gesture, label) in zip(X, y):\n",
    "\t\t\t# we have 3D gesture data points \n",
    "\t\t\t# $p-recognizer only accept 2D data points so we need to reduce to 2 dimensions\n",
    "\t\t\tpca = PCA(n_components=2)\n",
    "\t\t\tgesture_2d = pca.fit_transform(gesture)\n",
    "\n",
    "\t\t\t# convert each data points to point object\n",
    "\t\t\tpoints = []\n",
    "\t\t\tfor (x1, x2) in gesture_2d:\n",
    "\t\t\t\tpoint = Point(x1, x2)\n",
    "\t\t\t\tpoints.append(point)\n",
    "\t\t\t\n",
    "\t\t\ttraining_data.append(Template(label, points))\n",
    "\t\t\n",
    "\t\tself.recognizer = Recognizer(training_data)\n",
    "\t\treturn self.recognizer\n",
    "\t\t\t\n",
    "\tdef predict(self, X: npt.NDArray):\n",
    "\t\t\"\"\"_summary_\n",
    "\n",
    "\t\tParameters\n",
    "\t\t----------\n",
    "\t\tX : npt.NDArray, shape (n_samples, n_timepoints, vec_dimension)\n",
    "\t\t\tTesting data\n",
    "\n",
    "\t\tReturns\n",
    "\t\t-------\n",
    "\t\t_type_\n",
    "\t\t\t_description_\n",
    "\t\t\"\"\"\n",
    "\t\tif not self.recognizer:\n",
    "\t\t\traise ValueError(\"You must fit the model first.\") \n",
    "\n",
    "\t\tresults = []\n",
    "\n",
    "\t\tfor gesture in tqdm(X):\n",
    "\t\t\tpca = PCA(n_components=2)\n",
    "\t\t\tgesture_2d = pca.fit_transform(gesture)\n",
    "\n",
    "\t\t\tpoints = []\n",
    "\t\t\tfor (x1, x2) in gesture_2d:\n",
    "\t\t\t\tpoint = Point(x1, x2)\n",
    "\t\t\t\tpoints.append(point)\n",
    "\n",
    "\t\t\tresult = self.recognizer.recognize(points)\n",
    "\t\t\tresults.append(result[0])\n",
    "\n",
    "\t\treturn results\n",
    "\n",
    "recognizer = PointCloudRecognizer()\n",
    "pcr_accuracy_mean, pcr_accuracy_std = user_independent_cross_validation(estimator=recognizer, X=X, y=y)\n",
    "\n",
    "print(\"DOMAIN 01 - $P Recognizer\")\n",
    "\n",
    "print(\"USER INDEPENDENT CROSS VALIDATION\")\n",
    "print(f\"mean accuracy: {np.round(pcr_accuracy_mean, 3)}\")\n",
    "print(f\"std accuracy: {np.round(pcr_accuracy_std, 3)}\")"
   ]
  },
  {
   "attachments": {},
   "cell_type": "markdown",
   "metadata": {},
   "source": [
    "### Neural Network"
   ]
  }
 ],
 "metadata": {
  "kernelspec": {
   "display_name": "base",
   "language": "python",
   "name": "python3"
  },
  "language_info": {
   "codemirror_mode": {
    "name": "ipython",
    "version": 3
   },
   "file_extension": ".py",
   "mimetype": "text/x-python",
   "name": "python",
   "nbconvert_exporter": "python",
   "pygments_lexer": "ipython3",
   "version": "3.9.13"
  },
  "orig_nbformat": 4
 },
 "nbformat": 4,
 "nbformat_minor": 2
}
