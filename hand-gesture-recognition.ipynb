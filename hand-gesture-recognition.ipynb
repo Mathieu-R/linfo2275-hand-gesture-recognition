{
 "cells": [
  {
   "cell_type": "code",
   "execution_count": 104,
   "metadata": {},
   "outputs": [],
   "source": [
    "import numpy as np \n",
    "import numpy.typing as npt \n",
    "import pandas as pd \n",
    "\n",
    "import matplotlib.pyplot as plt\n",
    "import seaborn as sns\n",
    "\n",
    "import re\n",
    "from tqdm.notebook import tqdm\n",
    "\n",
    "from sklearn.model_selection import train_test_split, cross_val_score\n",
    "from sklearn.preprocessing import StandardScaler\n",
    "from sklearn.cluster import KMeans\n",
    "from sklearn.metrics import classification_report, confusion_matrix, accuracy_score\n",
    "from sklearn.decomposition import PCA\n",
    "\n",
    "from scipy.spatial import distance\n",
    "from scipy.stats import mode\n",
    "from scipy.interpolate import interp1d\n",
    "\n",
    "from dollarpy import Recognizer, Template, Point\n",
    "\n",
    "from math import sqrt, floor\n",
    "from typing import TextIO"
   ]
  },
  {
   "cell_type": "code",
   "execution_count": 105,
   "metadata": {},
   "outputs": [],
   "source": [
    "USER_IDS = range(0, 10)"
   ]
  },
  {
   "attachments": {},
   "cell_type": "markdown",
   "metadata": {},
   "source": [
    "### Load datasets"
   ]
  },
  {
   "cell_type": "code",
   "execution_count": 107,
   "metadata": {},
   "outputs": [
    {
     "name": "stdout",
     "output_type": "stream",
     "text": [
      "1 1001\n"
     ]
    },
    {
     "data": {
      "application/vnd.jupyter.widget-view+json": {
       "model_id": "664a6b57cfb44d5f97eb35ac2b7972bb",
       "version_major": 2,
       "version_minor": 0
      },
      "text/plain": [
       "  0%|          | 0/1000 [00:00<?, ?it/s]"
      ]
     },
     "metadata": {},
     "output_type": "display_data"
    },
    {
     "name": "stdout",
     "output_type": "stream",
     "text": [
      "2001 3001\n"
     ]
    },
    {
     "name": "stderr",
     "output_type": "stream",
     "text": [
      "/var/folders/zn/_2h7w2j547357vpm3_5pxrsr0000gn/T/ipykernel_1854/968105760.py:33: VisibleDeprecationWarning: Creating an ndarray from ragged nested sequences (which is a list-or-tuple of lists-or-tuples-or ndarrays with different lengths or shapes) is deprecated. If you meant to do this, you must specify 'dtype=object' when creating the ndarray.\n",
      "  return np.array(X), np.array(Y), hand_gesture_data_matrix\n"
     ]
    },
    {
     "data": {
      "application/vnd.jupyter.widget-view+json": {
       "model_id": "714e4a0d053742a3bc97d8be2d15fdec",
       "version_major": 2,
       "version_minor": 0
      },
      "text/plain": [
       "  0%|          | 0/1000 [00:00<?, ?it/s]"
      ]
     },
     "metadata": {},
     "output_type": "display_data"
    }
   ],
   "source": [
    "def load_datasets(domain: str):\n",
    "\tdir_path = f\"datasets/{domain}\"\n",
    "\n",
    "\tstart = ((int(domain.split(\"0\")[1]) - 1) * 1000) + 1\n",
    "\tstop = start + 1000\n",
    "\n",
    "\tX = []\n",
    "\tY = []\n",
    "\n",
    "\t# matrix (number_drawn, user_id)\n",
    "\t# at each cell we have a list of multiple try of a specific number drawing (number_drawn)\n",
    "\t# drawn by a specific user (user_id), each try contains a list of data points (x, y, z)\n",
    "\thand_gesture_data_matrix = np.zeros((10, 10), dtype=object)\n",
    "\tfor i in range(0, 10):\n",
    "\t\tfor j in range(0, 10):\n",
    "\t\t\thand_gesture_data_matrix[i, j] = []\n",
    "\n",
    "\tfor filename in tqdm(range(start, stop)):\n",
    "\t\tfile_path = f\"{dir_path}/{filename}.txt\"\n",
    "\t\twith open(file=file_path, mode=\"r\") as f:\n",
    "\t\t\t# get the target, user_id \n",
    "\t\t\t# and a list of positions vectors \\in \\R^3: <x, y, z>\n",
    "\t\t\t# that represents the drawing\n",
    "\t\t\tnumber_drawn, user_id, gesture_datas = load_gesture_data(file=f)\n",
    "\n",
    "\t\t\tX.append(gesture_datas)\n",
    "\t\t\tY.append(number_drawn)\n",
    "\n",
    "\t\t\thand_gesture_data_matrix[number_drawn - 1, user_id - 1].append(gesture_datas)\n",
    "\n",
    "\treturn np.array(X), np.array(Y), hand_gesture_data_matrix\n",
    "\n",
    "def load_gesture_data(file: TextIO):\n",
    "\t\"\"\"Load a hand gesture data file structured in the following way:\n",
    "\t-----\n",
    "\tDomain id = <domain-id>\n",
    "\tClass id = <class-id>\n",
    "\tUser id = <user-id>\n",
    "\n",
    "\t\"<x>,<y>,<z>,<t>\"\n",
    "\t...\n",
    "\t-----\n",
    "\n",
    "\tParameters\n",
    "\t----------\n",
    "\tfile : TextIOWrapper\n",
    "\t\tHand gesture data file\n",
    "\n",
    "\tReturns\n",
    "\t-------\n",
    "\tint\n",
    "\t\tNumber drawn\n",
    "\tint \n",
    "\t\tUser id\n",
    "\tnpt.NDArray, shape (n_timepoints, vec_dimension)\n",
    "\t\tTime series of hand gesture data points\n",
    "\t\"\"\"\n",
    "\tlines = file.readlines()\n",
    "\t\n",
    "\tnumber_drawn = lines[1].strip()\n",
    "\tmatch_number = re.search(\"=\", number_drawn)\n",
    "\tnumber_drawn = int(match_number.string[match_number.end():].strip()) - 1\n",
    "\n",
    "\tuser_id = lines[2].strip()\n",
    "\tmatch_user = re.search(\"=\", user_id)\n",
    "\tuser_id = int(match_user.string[match_user.end():].strip())\n",
    "\n",
    "\tgesture_datas = []\n",
    "\n",
    "\tfor row in range(5, len(lines)):\n",
    "\t\tgesture_data = lines[row].split(\",\")\n",
    "\t\t# we only keep <x, y, z> coordinates\n",
    "\t\tgesture_data = np.array([float(data.strip()) for data in gesture_data[0:-1]])\n",
    "\t\tgesture_datas.append(gesture_data)\n",
    "\t\n",
    "\treturn number_drawn, user_id, gesture_datas\n",
    "\n",
    "X1, y1, hand_gesture_data_matrix1 = load_datasets(domain=\"Domain01\")\n",
    "X3, y3, hand_gesture_data_matrix3 = load_datasets(domain=\"Domain03\")"
   ]
  },
  {
   "cell_type": "code",
   "execution_count": 110,
   "metadata": {},
   "outputs": [],
   "source": [
    "def vector_quantize(X: npt.NDArray, ts_length: float = 0.8) -> npt.NDArray:\n",
    "\t\"\"\"Preproces the dataset by performing a vector quantization of the signals. The idea is to reduce the length of the time series by ... % in order to reduce the computation time of the algorithms.\n",
    "\n",
    "\tParameters\n",
    "\t----------\n",
    "\tX : npt.NDArray, shape (n_samples, n_timepoints, vec_dimensions)\n",
    "\t\tDataset of the time series data points. Time series can vary in length (n_timepoints vary among samples).\n",
    "\tts_length: float, in the range ]0,1]\n",
    "\t\tThe percentage of time series to keep.\n",
    "\n",
    "\tReturns\n",
    "\t-------\n",
    "\tnpt.NDArray, shape (n_samples, n_clusters, vec_dimensions)\n",
    "\t\tDataset of the reduced length time series datapoints.\n",
    "\t\"\"\"\n",
    "\tif ts_length <= 0 or ts_length > 1:\n",
    "\t\traise ValueError(\"ts_length should be a number in the range ]0,1]\")\n",
    "\n",
    "\tX_compressed = []\n",
    "\tfor sketch_data in tqdm(X):\n",
    "\t\t# vector quantization of the signal\n",
    "\t\tn_clusters = floor(len(sketch_data) * ts_length)\n",
    "\t\tkmeans = KMeans(n_clusters=n_clusters, n_init=\"auto\")\n",
    "\t\tkmeans.fit(sketch_data)\n",
    "\t\tX_compressed.append(kmeans.cluster_centers_)\n",
    "\t\n",
    "\treturn np.array(X_compressed)\n",
    "\n",
    "#X1_compressed = vector_quantize(X1, ts_length=0.5)"
   ]
  },
  {
   "cell_type": "code",
   "execution_count": 111,
   "metadata": {},
   "outputs": [],
   "source": [
    "def resample_ts(ts: npt.NDArray, N: int = 64) -> npt.NDArray:\n",
    "\t\"\"\"Resample a time series of m data points into a time series of n_points data points by interpolation.\n",
    "\n",
    "\tParameters\n",
    "\t----------\n",
    "\tts : npt.NDArray, shape (n_timepoints, vec_dimension)\n",
    "\t\tthe original time series\n",
    "\tN : int, optional\n",
    "\t\tthe number of points to resample, by default 64\n",
    "\n",
    "\tReturns\n",
    "\t-------\n",
    "\tnpt.NDArray, shape (N_timepoints, vec_dimension)\n",
    "\t\tthe resampled time series\n",
    "\t\"\"\"\n",
    "\tts = np.array(ts)\n",
    "\t\n",
    "\tn, p = ts.shape\n",
    "\tresampled_ts = np.zeros((N, p))\n",
    "\n",
    "\tt_old = np.arange(0, n, 1)\n",
    "\tt_new = np.linspace(0, n - 1, N)\n",
    "\n",
    "\tfor dim in range(0, p):\n",
    "\t\tx_old = ts[:, dim]\n",
    "\t\tf = interp1d(t_old, ts[:, dim], axis=0)\n",
    "\t\tresampled_ts[:, dim] = f(t_new)\n",
    "\t\n",
    "\treturn resampled_ts\n",
    "\n",
    "def resample_dataset(X: npt.NDArray, N: int = 64):\n",
    "\tn_samples = len(X)\n",
    "\tresampled_X = np.zeros((n_samples, N, 3))\n",
    "\n",
    "\tfor i in range(0, n_samples):\n",
    "\t\t# resample the time series to N = 64 data points\n",
    "\t\t# http://faculty.washington.edu/wobbrock/pubs/uist-07.01.pdf \n",
    "\t\tts = X[i]\n",
    "\t\tresampled_ts = resample_ts(ts, N = N)\n",
    "\t\tresampled_X[i] = resampled_ts\n",
    "\t\n",
    "\t#plot_sketch(resampled_X)\n",
    "\n",
    "\t#scaler = StandardScaler()\n",
    "\t#scaled_X = scaler.fit_transform(resampled_X)\n",
    "\treturn resampled_X\n",
    "\n",
    "def standardize_dataset(X: npt.NDArray):\n",
    "\tn_samples = len(X)\n",
    "\t#standardized_X = np.zeros((n_samples, N, 3))"
   ]
  },
  {
   "attachments": {},
   "cell_type": "markdown",
   "metadata": {},
   "source": [
    "### Cross-validation"
   ]
  },
  {
   "cell_type": "code",
   "execution_count": 108,
   "metadata": {},
   "outputs": [],
   "source": [
    "def split_dataset(X, Y, user_id):\n",
    "\tslices = range(user_id * 100, 100 + (user_id * 100))\n",
    "\t\t\n",
    "\tX_train = np.delete(X, slices, axis=0)\n",
    "\ty_train = np.delete(Y, slices, axis=0)\n",
    "\n",
    "\tX_test = X[slices]\n",
    "\ty_test = Y[slices]\n",
    "\n",
    "\treturn X_train, X_test, y_train, y_test\n",
    "\n",
    "def user_independent_cross_validation(estimator, X, y):\n",
    "\ty_preds = []\n",
    "\ty_tests = []\n",
    "\taccuracies = []\n",
    "\n",
    "\tfor user_id in USER_IDS:\n",
    "\t\tX_train, X_test, y_train, y_test = split_dataset(X, y, user_id=user_id)\n",
    "\n",
    "\t\testimator.fit(X_train, y_train)\n",
    "\t\ty_pred = estimator.predict(X_test)\n",
    "\n",
    "\t\taccuracy = accuracy_score(y_true=y_test, y_pred=y_pred)\n",
    "\t\taccuracies.append(accuracy)\n",
    "\n",
    "\t\ty_tests.append(y_test)\n",
    "\t\ty_preds.append(y_pred)\n",
    "\n",
    "\taccuracy_mean = np.mean(accuracies)\n",
    "\taccuracy_std = np.std(accuracies)\n",
    "\t\n",
    "\treturn accuracy_mean, accuracy_std, y_preds, y_tests\n",
    "\n",
    "def user_dependent_cross_validation(knn):\n",
    "\tpass\n",
    "\n",
    "def test_algo(estimator, X, y):\n",
    "\tX_train, X_test, y_train, y_test = split_dataset(X, y, user_id=0)\n",
    "\n",
    "\testimator.fit(X_train, y_train)\n",
    "\ty_pred = estimator.predict(X_test)\n",
    "\n",
    "\taccuracy = accuracy_score(y_true=y_test, y_pred=y_pred)\n",
    "\n",
    "\treturn accuracy, y_pred, y_test"
   ]
  },
  {
   "cell_type": "code",
   "execution_count": 109,
   "metadata": {},
   "outputs": [],
   "source": [
    "import matplotlib.pyplot as plt\n",
    "\n",
    "def plot_sketch(X: npt.NDArray):\n",
    "\tdata = np.array(X[0])\n",
    "\n",
    "\tfig, ax = plt.subplots(subplot_kw={\"projection\": \"3d\"})\n",
    "\tax.scatter(data[:,0], data[:,1], data[:,2])"
   ]
  },
  {
   "attachments": {},
   "cell_type": "markdown",
   "metadata": {},
   "source": [
    "### Preprocessing"
   ]
  },
  {
   "cell_type": "code",
   "execution_count": 104,
   "metadata": {},
   "outputs": [
    {
     "data": {
      "image/png": "[encoded data removed]",
      "text/plain": [
       "<Figure size 640x480 with 1 Axes>"
      ]
     },
     "metadata": {},
     "output_type": "display_data"
    }
   ],
   "source": [
    "plot_sketch(X1_compressed)"
   ]
  },
  {
   "attachments": {},
   "cell_type": "markdown",
   "metadata": {},
   "source": [
    "### Dynamic Time Warping"
   ]
  },
  {
   "cell_type": "code",
   "execution_count": 32,
   "metadata": {},
   "outputs": [],
   "source": [
    "# multivariate dtw distance computed as independent dtw\n",
    "# compute the sum of distance of multiple univariate time series\n",
    "# it can therefore benefits from optimization of univariate time series like LB_Keogh\n",
    "# https://www.sciencedirect.com/science/article/pii/S0020025522013731#b0155 \n",
    "def cumulative_distance(vec_a: npt.NDArray, vec_b: npt.NDArray):\n",
    "\tn = len(vec_a)\n",
    "\tm = len(vec_b)\n",
    "\n",
    "\tif n != m:\n",
    "\t\traise ValueError(\"vec_a and vec_b are expected to have the same dimension.\")\n",
    "\t\n",
    "\tdistance = 0.0\n",
    "\tfor i in range(0, n):\n",
    "\t\t# square of the euclidean distance\n",
    "\t\tdistance += (vec_a[i] - vec_b[i]) ** 2\n",
    "\n",
    "\treturn distance\n",
    "\n",
    "# https://towardsdatascience.com/dynamic-time-warping-3933f25fcdd\n",
    "def dtw_distance(ts_a: npt.NDArray, ts_b: npt.NDArray, window: int = 3) -> float:\n",
    "\t\"\"\"Compute the DTW distance for two time series\n",
    "\n",
    "\tParameters\n",
    "\t----------\n",
    "\tts_a : npt.NDArray, shape (n_timepoints, vec_dimension)\n",
    "\t\tTime series of hand gesture data points\n",
    "\tts_b : npt.NDArray, shape (m_timepoints, vec_dimension)\n",
    "\t\tTime series of hand gesture data points\n",
    "\twindow : int, optional\n",
    "\t\tWindow size, by default 3\n",
    "\n",
    "\tReturns\n",
    "\t-------\n",
    "\tfloat\n",
    "\t\t_description_\n",
    "\t\"\"\"\n",
    "\n",
    "\tn = len(ts_a)\n",
    "\tm = len(ts_b)\n",
    "\n",
    "\tDTW_matrix = np.full((n+1, m+1), fill_value=np.inf)\n",
    "\n",
    "\t# initial conditions\n",
    "\tDTW_matrix[0, 0] = 0.0\n",
    "\n",
    "\tfor i in range(0, n):\n",
    "\t\tDTW_matrix[i, 0] = np.inf\n",
    "\t\n",
    "\tfor j in range(0, m):\n",
    "\t\tDTW_matrix[0, j] = np.inf\n",
    "\n",
    "\t# window optimization\n",
    "\twindow = max(window, abs(n - m))\n",
    "\n",
    "\tfor i in range(0, n+1):\n",
    "\t\tfor j in range(max(0, i - window), min(m, i + window) + 1):\n",
    "\t\t\tDTW_matrix[i, j] = 0.0\n",
    "\n",
    "\t# fill the matrix\n",
    "\tfor i in range(1, n+1):\n",
    "\t\tfor j in range(max(1, i - window), min(m, i + window) + 1):\n",
    "\t\t\t# manhattan distance\n",
    "\t\t\tcost = cumulative_distance(ts_a[i-1], ts_b[j-i])\n",
    "\t\t\t#cost = distance.sqeuclidean(ts_a[i-1], ts_b[j-1])\n",
    "\t\t\toptimal_warping_path = min(\n",
    "\t\t\t\tDTW_matrix[i-1, j], # insertion\n",
    "\t\t\t\tDTW_matrix[i, j-1], # deletion\n",
    "\t\t\t\tDTW_matrix[i-1, j-1] # match\n",
    "\t\t\t)\n",
    "\n",
    "\t\t\tDTW_matrix[i, j] = cost + optimal_warping_path\n",
    "\t\n",
    "\treturn sqrt(DTW_matrix[n, m])"
   ]
  },
  {
   "cell_type": "code",
   "execution_count": 17,
   "metadata": {},
   "outputs": [],
   "source": [
    "# CAVEAT: ONLY WORKS FOR MONODIMENSIONAL TIME SERIES...\n",
    "def lb_keogh(ts_query: npt.NDArray, ts_candidate: npt.NDArray, window: int) -> float:\n",
    "\t\"\"\"Implement LB Keogh algorithm which is a fast lowerbounding method for constrained DTW distance\n",
    "\n",
    "\tParameters\n",
    "\t----------\n",
    "\tts_query : npt.NDArray, shape (n_timepoints,)\n",
    "\t\tQuery time series to compare with the envelope of the candidate time series.\n",
    "\tts_candidate : npt.NDArray, shape (m_timepoints,)\n",
    "\t\tCandidate time series, used to compute the envelope.\n",
    "\twindow : int\n",
    "\t\tWindows size to use for the envelope generation\n",
    "\n",
    "\tReturns\n",
    "\t-------\n",
    "\tfloat\n",
    "\t\tDistance between the query time series and the envelope of the candidate time series\n",
    "\t\"\"\"\n",
    "\tn = min(len(ts_query), len(ts_candidate))\n",
    "\tlb_tot = 0\n",
    "\n",
    "\tfor i in range(0, n):\n",
    "\t\tstart = (i - window if i - window >= 0 else 0)\n",
    "\t\tstop = (i + window if i + window <= n - 1 else n - 1)\n",
    "\n",
    "\t\tlower_bound = min(ts_candidate[start:stop + 1])\n",
    "\t\tupper_bound = min(ts_candidate[start:stop + 1])\n",
    "\n",
    "\t\tif ts_query[i] > upper_bound[j]:\n",
    "\t\t\tlb_tot += (ts_query[i] - upper_bound) ** 2\n",
    "\t\telif ts_query[i] < lower_bound[j]:\n",
    "\t\t\tlb_tot += (lower_bound - ts_query[i]) ** 2\n",
    "\t\t\t\n",
    "\treturn sqrt(lb_tot)"
   ]
  },
  {
   "cell_type": "code",
   "execution_count": 87,
   "metadata": {},
   "outputs": [],
   "source": [
    "from collections import defaultdict\n",
    "\n",
    "def coarsening(ts):\n",
    "\tdef averaging(ts, i):\n",
    "\t\treturn (ts[i] + ts[i + 1]) / 2\n",
    "\n",
    "\tn = len(ts)\n",
    "\taveraged_ts = [averaging(ts, i) for i in range(0, n - (n % 2), 2)]\n",
    "\treturn np.asarray(averaged_ts)\n",
    "\n",
    "def expand_searching_window(warping_path, n, m, radius):\n",
    "\twarping_path_set = set(warping_path)\n",
    "\n",
    "\tfor (i, j) in warping_path:\n",
    "\t\tfor move_i in range(-radius, radius + 1):\n",
    "\t\t\tfor move_j in range(-radius, radius + 1):\n",
    "\t\t\t\tneighbor_i = i + move_i\n",
    "\t\t\t\tneighbor_j = j + move_j\n",
    "\t\t\t\tif (neighbor_i >= 0 and neighbor_j >= 0):\n",
    "\t\t\t\t\twarping_path_set.add((neighbor_i, neighbor_j))\n",
    "\t\n",
    "\twindow = set()\n",
    "\t\n",
    "\tfor (i, j) in warping_path_set:\n",
    "\t\tfor (a, b) in ((i * 2, j * 2), (i * 2, (j * 2) + 1), ((i * 2) + 1, j * 2), ((i * 2) + 1, (j * 2) + 1)):\n",
    "\t\t\twindow.add((a, b))\n",
    "\n",
    "\t#print(window)\n",
    "\n",
    "\tsearching_window = []\n",
    "\tstart_j = 0\n",
    "\n",
    "\tfor i in range(0, n):\n",
    "\t\tnew_start_j = None\n",
    "\t\tfor j in range(start_j, m):\n",
    "\t\t\tif (i, j) in window:\n",
    "\t\t\t\tsearching_window.append((i, j))\n",
    "\t\t\t\tif new_start_j is None:\n",
    "\t\t\t\t\tnew_start_j = j\n",
    "\t\t\telif new_start_j is not None:\n",
    "\t\t\t\tbreak\n",
    "\t\t\n",
    "\t\tstart_j = new_start_j\n",
    "\n",
    "\t#print(searching_window)\n",
    "\treturn searching_window\n",
    "\n",
    "def dtw(ts_a, ts_b, dist_function, window):\n",
    "\tn = len(ts_a)\n",
    "\tm = len(ts_b)\n",
    "\n",
    "\t#print(window)\n",
    "\n",
    "\tif window is None:\n",
    "\t\twindow = [(i, j) for i in range(0, n) for j in range(0, m)]\n",
    "\n",
    "\t# shift (i, j) cell to (i + 1, j + 1)\n",
    "\twindow = [(i + 1, j + 1) for i, j in window]\n",
    "\n",
    "\tcost_matrix = defaultdict(lambda: (float(\"inf\"),))\n",
    "\n",
    "\t#print(window)\n",
    "\n",
    "\t# initial conditions\n",
    "\tcost_matrix[0, 0] = (0, (0, 0))\n",
    "\n",
    "\t# search for the optimal warping path\n",
    "\tfor (i, j) in window:\n",
    "\t\t#print(i, j)\n",
    "\t\t#print(ts_a[i-1], ts_b[j-1])\n",
    "\t\tcost = dist_function(ts_a[i-1], ts_b[j-1])\n",
    "\t\taccumulated_cost_and_cell = min(\n",
    "\t\t\t(cost + cost_matrix[i-1, j][0], (i-1, j)), # insertion\n",
    "\t\t\t(cost + cost_matrix[i, j-1][0], (i, j-1)), # deletion\n",
    "\t\t\t(cost + cost_matrix[i-1, j-1][0], (i-1, j-1)), # match\n",
    "\t\t\tkey = lambda x: x[0]\n",
    "\t\t)\n",
    "\n",
    "\t\tcost_matrix[i, j] = accumulated_cost_and_cell\n",
    "\n",
    "\t# reconstruct the path\n",
    "\tpath = []\n",
    "\ti, j = n, m\n",
    "\n",
    "\twhile not (i == 0 and j == 0):\n",
    "\t\tpath.append((i - 1, j - 1))\n",
    "\t\ti, j = cost_matrix[i, j][1]\n",
    "\tpath.reverse()\n",
    "\n",
    "\treturn cost_matrix[n, m][0], path\n",
    "\n",
    "def fast_dtw(ts_a, ts_b, dist_function, radius = 1):\n",
    "\tn = len(ts_a)\n",
    "\tm = len(ts_b)\n",
    "\n",
    "\t# min size of the coarsest resolution\n",
    "\tmin_ts_size = radius + 2\n",
    "\n",
    "\t# base case: for really small time series,\n",
    "\t# run the full dtw algorithm\n",
    "\tif n <= min_ts_size or m <= min_ts_size:\n",
    "\t\treturn dtw(ts_a, ts_b, dist_function, window=None)\n",
    "\n",
    "\t# coarsening\n",
    "\tts_a_shrunk = coarsening(ts_a)\n",
    "\tts_b_shrunk = coarsening(ts_b)\n",
    "\n",
    "\t# recursively compute a lower resolution path\n",
    "\tdist, low_res_path = fast_dtw(ts_a_shrunk, ts_b_shrunk, dist_function, radius)\n",
    "\n",
    "\t# compute a searching window\n",
    "\tsearching_window = expand_searching_window(low_res_path, n, m, radius)\n",
    "\n",
    "\treturn dtw(ts_a, ts_b, dist_function, searching_window)"
   ]
  },
  {
   "cell_type": "code",
   "execution_count": 92,
   "metadata": {},
   "outputs": [],
   "source": [
    "# https://nbviewer.org/github/markdregan/K-Nearest-Neighbors-with-Dynamic-Time-Warping/blob/master/K_Nearest_Neighbor_Dynamic_Time_Warping.ipynb\n",
    "\n",
    "# http://alexminnaar.com/2014/04/16/Time-Series-Classification-and-Clustering-with-Python.html\n",
    "\n",
    "# https://www.sciencedirect.com/science/article/pii/S0031320317304387#bib0037\n",
    "\n",
    "class KNN:\n",
    "\tdef __init__(self, n_neighbors = 1, radius = 1, distance_fun = fast_dtw):\n",
    "\t\tself.n_neigbors = n_neighbors\n",
    "\t\tself.distance_fun = distance_fun\n",
    "\t\tself.radius = radius\n",
    "\n",
    "\t\tself.X = None \n",
    "\t\tself.y = None\n",
    "\t\n",
    "\tdef fit(self, X: npt.NDArray, y: npt.NDArray):\n",
    "\t\t\"\"\"Fit the model using X as training data and y as target\n",
    "\n",
    "\t\tParameters\n",
    "\t\t----------\n",
    "\t\tX : npt.NDArray, shape (n_samples, n_timepoints, vec_dimension)\n",
    "\t\t\tTraining data\n",
    "\t\ty : npt.NDArray, shape (n_samples,)\n",
    "\t\t\tTarget data\n",
    "\t\t\"\"\"\n",
    "\t\tself.X = X\n",
    "\t\tself.y = y\n",
    "\n",
    "\tdef distance_matrix(self, X_train: npt.NDArray, X_test: npt.NDArray):\n",
    "\t\tn = len(X_test)\n",
    "\t\tm = len(X_train)\n",
    "\t\tdistance_matrix = np.zeros((n, m))\n",
    "\n",
    "\t\tfor i in tqdm(range(0, n)):\n",
    "\t\t\t#min_dist = np.inf\n",
    "\t\t\tfor j in range(0, m):\n",
    "\t\t\t\t#if lb_keogh(X_train[j], X_test[i], window=self.window) < min_dist:\n",
    "\t\t\t\t# compare each time series in the testing set \n",
    "\t\t\t\t# with every other one in the training set\n",
    "\t\t\t\t#dist = self.distance_fun(X_test[i], X_train[j], window=self.window)\n",
    "\t\t\t\tdist, warping_path = fast_dtw(X_test[i], X_train[j], cumulative_distance, radius=self.radius)\n",
    "\n",
    "\t\t\t\t# keep track of the dtw distance between time series i and j\n",
    "\t\t\t\tdistance_matrix[i, j] = dist\n",
    "\t\t\t\t\t#if dist < min_dist:\n",
    "\t\t\t\t\t\t#min_dist = dist\n",
    "\t\t\n",
    "\t\treturn distance_matrix\n",
    "\n",
    "\tdef predict(self, X: npt.NDArray) -> npt.NDArray:\n",
    "\t\t\"\"\"Predict the target values (here: class label) for the given testing dataset\n",
    "\n",
    "\t\tParameters\n",
    "\t\t----------\n",
    "\t\tX : npt.NDArray, shape (n_samples, n_timepoints, vec_dimension)\n",
    "\t\t\tTesting data\n",
    "\n",
    "\t\tReturns\n",
    "\t\t-------\n",
    "\t\tnpt.NDArray, shape (n_samples,)\n",
    "\t\t\tArray of predicted target values\n",
    "\t\t\"\"\"\n",
    "\t\tdistance_matrix = self.distance_matrix(self.X, X)\n",
    "\n",
    "\t\tknn_idx = distance_matrix.argsort()[:, :self.n_neigbors]\n",
    "\t\tknn_labels = self.y[knn_idx]\n",
    "\n",
    "\t\tprediction = mode(knn_labels, axis=1)[0]\n",
    "\n",
    "\t\treturn prediction.ravel()"
   ]
  },
  {
   "cell_type": "code",
   "execution_count": 93,
   "metadata": {},
   "outputs": [],
   "source": [
    "def plot_confusion_matrix(y_true, y_pred):\n",
    "\tconf_matrix = np.array(confusion_matrix(y_true=y_true, y_pred=y_pred))\n",
    "\tsns.heatmap(conf_matrix, annot=True)\n",
    "\tplt.show()"
   ]
  },
  {
   "cell_type": "code",
   "execution_count": 112,
   "metadata": {},
   "outputs": [
    {
     "data": {
      "application/vnd.jupyter.widget-view+json": {
       "model_id": "c7ad9cd21fed453dbfc024ed306205a7",
       "version_major": 2,
       "version_minor": 0
      },
      "text/plain": [
       "  0%|          | 0/100 [00:00<?, ?it/s]"
      ]
     },
     "metadata": {},
     "output_type": "display_data"
    },
    {
     "name": "stdout",
     "output_type": "stream",
     "text": [
      "DOMAIN 01 - DYNAMIC TIME WARPING\n",
      "TEST ALGO\n",
      "accuracy: 0.76\n"
     ]
    },
    {
     "name": "stderr",
     "output_type": "stream",
     "text": [
      "/var/folders/zn/_2h7w2j547357vpm3_5pxrsr0000gn/T/ipykernel_1854/2988488513.py:68: FutureWarning: Unlike other reduction functions (e.g. `skew`, `kurtosis`), the default behavior of `mode` typically preserves the axis it acts along. In SciPy 1.11.0, this behavior will change: the default value of `keepdims` will become False, the `axis` over which the statistic is taken will be eliminated, and the value None will no longer be accepted. Set `keepdims` to True or False to avoid this warning.\n",
      "  prediction = mode(knn_labels, axis=1)[0]\n"
     ]
    }
   ],
   "source": [
    "knn = KNN(n_neighbors=1, radius=1, distance_fun=fast_dtw)\n",
    "dtw_accuracy, dtw_y_pred, dtw_y_test = test_algo(\n",
    "\testimator=knn,\n",
    "\tX=resample_dataset(X1), \n",
    "\ty=y1\n",
    ")\n",
    "\n",
    "print(\"DOMAIN 01 - DYNAMIC TIME WARPING\")\n",
    "\n",
    "print(\"TEST ALGO\")\n",
    "print(f\"accuracy: {np.round(dtw_accuracy, 3)}\")"
   ]
  },
  {
   "cell_type": "code",
   "execution_count": 101,
   "metadata": {},
   "outputs": [
    {
     "data": {
      "image/png": "[encoded data removed]",
      "text/plain": [
       "<Figure size 640x480 with 2 Axes>"
      ]
     },
     "metadata": {},
     "output_type": "display_data"
    }
   ],
   "source": [
    "plot_confusion_matrix(y_true=dtw_y_test, y_pred=dtw_y_pred)"
   ]
  },
  {
   "cell_type": "code",
   "execution_count": 90,
   "metadata": {},
   "outputs": [
    {
     "data": {
      "application/vnd.jupyter.widget-view+json": {
       "model_id": "29d9f72a033247e2b38570ed661df1e5",
       "version_major": 2,
       "version_minor": 0
      },
      "text/plain": [
       "  0%|          | 0/100 [00:00<?, ?it/s]"
      ]
     },
     "metadata": {},
     "output_type": "display_data"
    },
    {
     "name": "stderr",
     "output_type": "stream",
     "text": [
      "/var/folders/zn/_2h7w2j547357vpm3_5pxrsr0000gn/T/ipykernel_1854/2870611064.py:68: FutureWarning: Unlike other reduction functions (e.g. `skew`, `kurtosis`), the default behavior of `mode` typically preserves the axis it acts along. In SciPy 1.11.0, this behavior will change: the default value of `keepdims` will become False, the `axis` over which the statistic is taken will be eliminated, and the value None will no longer be accepted. Set `keepdims` to True or False to avoid this warning.\n",
      "  prediction = mode(knn_labels, axis=1)[0]\n"
     ]
    },
    {
     "data": {
      "application/vnd.jupyter.widget-view+json": {
       "model_id": "fc70f75fa4b94f9dbe83f19e93ff9744",
       "version_major": 2,
       "version_minor": 0
      },
      "text/plain": [
       "  0%|          | 0/100 [00:00<?, ?it/s]"
      ]
     },
     "metadata": {},
     "output_type": "display_data"
    },
    {
     "name": "stderr",
     "output_type": "stream",
     "text": [
      "/var/folders/zn/_2h7w2j547357vpm3_5pxrsr0000gn/T/ipykernel_1854/2870611064.py:68: FutureWarning: Unlike other reduction functions (e.g. `skew`, `kurtosis`), the default behavior of `mode` typically preserves the axis it acts along. In SciPy 1.11.0, this behavior will change: the default value of `keepdims` will become False, the `axis` over which the statistic is taken will be eliminated, and the value None will no longer be accepted. Set `keepdims` to True or False to avoid this warning.\n",
      "  prediction = mode(knn_labels, axis=1)[0]\n"
     ]
    },
    {
     "data": {
      "application/vnd.jupyter.widget-view+json": {
       "model_id": "cbd9d4acffc2488e973720b14d7d64a4",
       "version_major": 2,
       "version_minor": 0
      },
      "text/plain": [
       "  0%|          | 0/100 [00:00<?, ?it/s]"
      ]
     },
     "metadata": {},
     "output_type": "display_data"
    },
    {
     "name": "stderr",
     "output_type": "stream",
     "text": [
      "/var/folders/zn/_2h7w2j547357vpm3_5pxrsr0000gn/T/ipykernel_1854/2870611064.py:68: FutureWarning: Unlike other reduction functions (e.g. `skew`, `kurtosis`), the default behavior of `mode` typically preserves the axis it acts along. In SciPy 1.11.0, this behavior will change: the default value of `keepdims` will become False, the `axis` over which the statistic is taken will be eliminated, and the value None will no longer be accepted. Set `keepdims` to True or False to avoid this warning.\n",
      "  prediction = mode(knn_labels, axis=1)[0]\n"
     ]
    },
    {
     "data": {
      "application/vnd.jupyter.widget-view+json": {
       "model_id": "465b4d9d49b34dd98b404b18d6b474a5",
       "version_major": 2,
       "version_minor": 0
      },
      "text/plain": [
       "  0%|          | 0/100 [00:00<?, ?it/s]"
      ]
     },
     "metadata": {},
     "output_type": "display_data"
    },
    {
     "name": "stderr",
     "output_type": "stream",
     "text": [
      "/var/folders/zn/_2h7w2j547357vpm3_5pxrsr0000gn/T/ipykernel_1854/2870611064.py:68: FutureWarning: Unlike other reduction functions (e.g. `skew`, `kurtosis`), the default behavior of `mode` typically preserves the axis it acts along. In SciPy 1.11.0, this behavior will change: the default value of `keepdims` will become False, the `axis` over which the statistic is taken will be eliminated, and the value None will no longer be accepted. Set `keepdims` to True or False to avoid this warning.\n",
      "  prediction = mode(knn_labels, axis=1)[0]\n"
     ]
    },
    {
     "data": {
      "application/vnd.jupyter.widget-view+json": {
       "model_id": "7783744dfabf4bf2b88fae0c9b773813",
       "version_major": 2,
       "version_minor": 0
      },
      "text/plain": [
       "  0%|          | 0/100 [00:00<?, ?it/s]"
      ]
     },
     "metadata": {},
     "output_type": "display_data"
    },
    {
     "name": "stderr",
     "output_type": "stream",
     "text": [
      "/var/folders/zn/_2h7w2j547357vpm3_5pxrsr0000gn/T/ipykernel_1854/2870611064.py:68: FutureWarning: Unlike other reduction functions (e.g. `skew`, `kurtosis`), the default behavior of `mode` typically preserves the axis it acts along. In SciPy 1.11.0, this behavior will change: the default value of `keepdims` will become False, the `axis` over which the statistic is taken will be eliminated, and the value None will no longer be accepted. Set `keepdims` to True or False to avoid this warning.\n",
      "  prediction = mode(knn_labels, axis=1)[0]\n"
     ]
    },
    {
     "data": {
      "application/vnd.jupyter.widget-view+json": {
       "model_id": "51b7e5ec3ec141dba84f3e6fbf009c83",
       "version_major": 2,
       "version_minor": 0
      },
      "text/plain": [
       "  0%|          | 0/100 [00:00<?, ?it/s]"
      ]
     },
     "metadata": {},
     "output_type": "display_data"
    },
    {
     "name": "stderr",
     "output_type": "stream",
     "text": [
      "/var/folders/zn/_2h7w2j547357vpm3_5pxrsr0000gn/T/ipykernel_1854/2870611064.py:68: FutureWarning: Unlike other reduction functions (e.g. `skew`, `kurtosis`), the default behavior of `mode` typically preserves the axis it acts along. In SciPy 1.11.0, this behavior will change: the default value of `keepdims` will become False, the `axis` over which the statistic is taken will be eliminated, and the value None will no longer be accepted. Set `keepdims` to True or False to avoid this warning.\n",
      "  prediction = mode(knn_labels, axis=1)[0]\n"
     ]
    },
    {
     "data": {
      "application/vnd.jupyter.widget-view+json": {
       "model_id": "b19e4ac5de99419d86ea2cbaaaef68cc",
       "version_major": 2,
       "version_minor": 0
      },
      "text/plain": [
       "  0%|          | 0/100 [00:00<?, ?it/s]"
      ]
     },
     "metadata": {},
     "output_type": "display_data"
    },
    {
     "name": "stderr",
     "output_type": "stream",
     "text": [
      "/var/folders/zn/_2h7w2j547357vpm3_5pxrsr0000gn/T/ipykernel_1854/2870611064.py:68: FutureWarning: Unlike other reduction functions (e.g. `skew`, `kurtosis`), the default behavior of `mode` typically preserves the axis it acts along. In SciPy 1.11.0, this behavior will change: the default value of `keepdims` will become False, the `axis` over which the statistic is taken will be eliminated, and the value None will no longer be accepted. Set `keepdims` to True or False to avoid this warning.\n",
      "  prediction = mode(knn_labels, axis=1)[0]\n"
     ]
    },
    {
     "data": {
      "application/vnd.jupyter.widget-view+json": {
       "model_id": "a031ca28c0ac4a4aac45f222248acbea",
       "version_major": 2,
       "version_minor": 0
      },
      "text/plain": [
       "  0%|          | 0/100 [00:00<?, ?it/s]"
      ]
     },
     "metadata": {},
     "output_type": "display_data"
    },
    {
     "name": "stderr",
     "output_type": "stream",
     "text": [
      "/var/folders/zn/_2h7w2j547357vpm3_5pxrsr0000gn/T/ipykernel_1854/2870611064.py:68: FutureWarning: Unlike other reduction functions (e.g. `skew`, `kurtosis`), the default behavior of `mode` typically preserves the axis it acts along. In SciPy 1.11.0, this behavior will change: the default value of `keepdims` will become False, the `axis` over which the statistic is taken will be eliminated, and the value None will no longer be accepted. Set `keepdims` to True or False to avoid this warning.\n",
      "  prediction = mode(knn_labels, axis=1)[0]\n"
     ]
    },
    {
     "data": {
      "application/vnd.jupyter.widget-view+json": {
       "model_id": "d952163c3d984ed8912b9de26bc32853",
       "version_major": 2,
       "version_minor": 0
      },
      "text/plain": [
       "  0%|          | 0/100 [00:00<?, ?it/s]"
      ]
     },
     "metadata": {},
     "output_type": "display_data"
    },
    {
     "name": "stderr",
     "output_type": "stream",
     "text": [
      "/var/folders/zn/_2h7w2j547357vpm3_5pxrsr0000gn/T/ipykernel_1854/2870611064.py:68: FutureWarning: Unlike other reduction functions (e.g. `skew`, `kurtosis`), the default behavior of `mode` typically preserves the axis it acts along. In SciPy 1.11.0, this behavior will change: the default value of `keepdims` will become False, the `axis` over which the statistic is taken will be eliminated, and the value None will no longer be accepted. Set `keepdims` to True or False to avoid this warning.\n",
      "  prediction = mode(knn_labels, axis=1)[0]\n"
     ]
    },
    {
     "data": {
      "application/vnd.jupyter.widget-view+json": {
       "model_id": "6ad43ab4ac4748ec883784842c40ba20",
       "version_major": 2,
       "version_minor": 0
      },
      "text/plain": [
       "  0%|          | 0/100 [00:00<?, ?it/s]"
      ]
     },
     "metadata": {},
     "output_type": "display_data"
    },
    {
     "name": "stdout",
     "output_type": "stream",
     "text": [
      "DOMAIN 01 - DYNAMIC TIME WARPING\n",
      "USER INDEPENDENT CROSS VALIDATION\n",
      "mean accuracy: 0.218\n",
      "std accuracy: 0.059\n"
     ]
    },
    {
     "name": "stderr",
     "output_type": "stream",
     "text": [
      "/var/folders/zn/_2h7w2j547357vpm3_5pxrsr0000gn/T/ipykernel_1854/2870611064.py:68: FutureWarning: Unlike other reduction functions (e.g. `skew`, `kurtosis`), the default behavior of `mode` typically preserves the axis it acts along. In SciPy 1.11.0, this behavior will change: the default value of `keepdims` will become False, the `axis` over which the statistic is taken will be eliminated, and the value None will no longer be accepted. Set `keepdims` to True or False to avoid this warning.\n",
      "  prediction = mode(knn_labels, axis=1)[0]\n"
     ]
    }
   ],
   "source": [
    "knn = KNN(n_neighbors=3, window=10, distance_fun=fast_dtw)\n",
    "\n",
    "dtw_accuracy_mean, dtw_accuracy_std, dtw_y_preds, dtw_y_tests = user_independent_cross_validation(\n",
    "\testimator=knn, \n",
    "\tX=X_compressed, \n",
    "\ty=y\n",
    ")\n",
    "\n",
    "print(\"DOMAIN 01 - DYNAMIC TIME WARPING\")\n",
    "\n",
    "print(\"USER INDEPENDENT CROSS VALIDATION\")\n",
    "print(f\"mean accuracy: {np.round(dtw_accuracy_mean, 3)}\")\n",
    "print(f\"std accuracy: {np.round(dtw_accuracy_std, 3)}\")"
   ]
  },
  {
   "attachments": {},
   "cell_type": "markdown",
   "metadata": {},
   "source": [
    "### $P Recognizer"
   ]
  },
  {
   "cell_type": "code",
   "execution_count": 20,
   "metadata": {},
   "outputs": [],
   "source": []
  },
  {
   "cell_type": "code",
   "execution_count": 24,
   "metadata": {},
   "outputs": [],
   "source": [
    "class PointCloudRecognizer:\n",
    "\tdef __init__(self, N = 64):\n",
    "\t\tself.N = N\n",
    "\t\tself.recognizer = None\n",
    "\n",
    "\tdef fit(self, X: npt.NDArray, y: npt.NDArray):\n",
    "\t\t\"\"\"_summary_\n",
    "\n",
    "\t\tParameters\n",
    "\t\t----------\n",
    "\t\tX : npt.NDArray, shape (n_samples, n_timepoints, vec_dimension)\n",
    "\t\t\tTraining data\n",
    "\t\ty : npt.NDArray, shape (n_samples,)\n",
    "\t\t\tTraining target values\n",
    "\n",
    "\t\tReturns\n",
    "\t\t-------\n",
    "\t\t_type_\n",
    "\t\t\t_description_\n",
    "\t\t\"\"\"\n",
    "\t\tself.X = X\n",
    "\t\tself.y = y\n",
    "\n",
    "\t\ttraining_data = []\n",
    "\n",
    "\t\t# for each vector of data points\n",
    "\t\tfor (gesture, label) in zip(X, y):\n",
    "\t\t\t# we have 3D gesture data points \n",
    "\t\t\t# $p-recognizer only accept 2D data points so we need to reduce to 2 dimensions\n",
    "\t\t\tpca = PCA(n_components=2)\n",
    "\t\t\tgesture_2d = pca.fit_transform(gesture)\n",
    "\n",
    "\t\t\t# convert each data points to point object\n",
    "\t\t\tpoints = []\n",
    "\t\t\tfor (x1, x2) in gesture_2d:\n",
    "\t\t\t\tpoint = Point(x1, x2)\n",
    "\t\t\t\tpoints.append(point)\n",
    "\t\t\t\n",
    "\t\t\ttraining_data.append(Template(label, points))\n",
    "\t\t\n",
    "\t\tself.recognizer = Recognizer(training_data)\n",
    "\t\treturn self.recognizer\n",
    "\t\t\t\n",
    "\tdef predict(self, X: npt.NDArray):\n",
    "\t\t\"\"\"_summary_\n",
    "\n",
    "\t\tParameters\n",
    "\t\t----------\n",
    "\t\tX : npt.NDArray, shape (n_samples, n_timepoints, vec_dimension)\n",
    "\t\t\tTesting data\n",
    "\n",
    "\t\tReturns\n",
    "\t\t-------\n",
    "\t\t_type_\n",
    "\t\t\t_description_\n",
    "\t\t\"\"\"\n",
    "\t\tif not self.recognizer:\n",
    "\t\t\traise ValueError(\"You must fit the model first.\") \n",
    "\n",
    "\t\tresults = []\n",
    "\n",
    "\t\tfor gesture in tqdm(X):\n",
    "\t\t\tpca = PCA(n_components=2)\n",
    "\t\t\tgesture_2d = pca.fit_transform(gesture)\n",
    "\n",
    "\t\t\tpoints = []\n",
    "\t\t\tfor (x1, x2) in gesture_2d:\n",
    "\t\t\t\tpoint = Point(x1, x2)\n",
    "\t\t\t\tpoints.append(point)\n",
    "\n",
    "\t\t\tresult = self.recognizer.recognize(points)\n",
    "\t\t\tresults.append(result[0])\n",
    "\n",
    "\t\treturn results"
   ]
  },
  {
   "cell_type": "code",
   "execution_count": 102,
   "metadata": {},
   "outputs": [
    {
     "data": {
      "application/vnd.jupyter.widget-view+json": {
       "model_id": "0f2258f027ee41739bafcb388304b178",
       "version_major": 2,
       "version_minor": 0
      },
      "text/plain": [
       "  0%|          | 0/100 [00:00<?, ?it/s]"
      ]
     },
     "metadata": {},
     "output_type": "display_data"
    },
    {
     "name": "stdout",
     "output_type": "stream",
     "text": [
      "DOMAIN 01 - DYNAMIC TIME WARPING\n",
      "TEST ALGO\n",
      "accuracy: 0.85\n"
     ]
    }
   ],
   "source": [
    "recognizer = PointCloudRecognizer()\n",
    "\n",
    "X_scaled_and_resampled = standardize(X, N = 64)\n",
    "pcr_accuracy, pcr_y_pred, pcr_y_test = test_algo(\n",
    "\testimator=recognizer,\n",
    "\tX=X_scaled_and_resampled, \n",
    "\ty=y\n",
    ")\n",
    "\n",
    "print(\"DOMAIN 01 - DYNAMIC TIME WARPING\")\n",
    "\n",
    "print(\"TEST ALGO\")\n",
    "print(f\"accuracy: {np.round(pcr_accuracy, 3)}\")"
   ]
  },
  {
   "cell_type": "code",
   "execution_count": 103,
   "metadata": {},
   "outputs": [
    {
     "data": {
      "image/png": "[encoded data removed]",
      "text/plain": [
       "<Figure size 640x480 with 2 Axes>"
      ]
     },
     "metadata": {},
     "output_type": "display_data"
    }
   ],
   "source": [
    "plot_confusion_matrix(y_true=pcr_y_test, y_pred=pcr_y_pred)"
   ]
  },
  {
   "cell_type": "code",
   "execution_count": 26,
   "metadata": {},
   "outputs": [
    {
     "name": "stdout",
     "output_type": "stream",
     "text": [
      "The history saving thread hit an unexpected error (OperationalError('attempt to write a readonly database')).History will not be written to the database.\n"
     ]
    },
    {
     "data": {
      "application/vnd.jupyter.widget-view+json": {
       "model_id": "91a7fb3644234547a7cb2b03824ed290",
       "version_major": 2,
       "version_minor": 0
      },
      "text/plain": [
       "  0%|          | 0/100 [00:00<?, ?it/s]"
      ]
     },
     "metadata": {},
     "output_type": "display_data"
    },
    {
     "data": {
      "application/vnd.jupyter.widget-view+json": {
       "model_id": "916a51505ae74725bbbb3f1bceef4b58",
       "version_major": 2,
       "version_minor": 0
      },
      "text/plain": [
       "  0%|          | 0/100 [00:00<?, ?it/s]"
      ]
     },
     "metadata": {},
     "output_type": "display_data"
    },
    {
     "data": {
      "application/vnd.jupyter.widget-view+json": {
       "model_id": "f2ebcf570e4a40fea74011e442f42801",
       "version_major": 2,
       "version_minor": 0
      },
      "text/plain": [
       "  0%|          | 0/100 [00:00<?, ?it/s]"
      ]
     },
     "metadata": {},
     "output_type": "display_data"
    },
    {
     "data": {
      "application/vnd.jupyter.widget-view+json": {
       "model_id": "64d2d9d76d5344da980ed86b72f0f515",
       "version_major": 2,
       "version_minor": 0
      },
      "text/plain": [
       "  0%|          | 0/100 [00:00<?, ?it/s]"
      ]
     },
     "metadata": {},
     "output_type": "display_data"
    },
    {
     "data": {
      "application/vnd.jupyter.widget-view+json": {
       "model_id": "bd5d5013ab2843139491b967e92c8bfe",
       "version_major": 2,
       "version_minor": 0
      },
      "text/plain": [
       "  0%|          | 0/100 [00:00<?, ?it/s]"
      ]
     },
     "metadata": {},
     "output_type": "display_data"
    },
    {
     "ename": "KeyboardInterrupt",
     "evalue": "",
     "output_type": "error",
     "traceback": [
      "\u001b[0;31m---------------------------------------------------------------------------\u001b[0m",
      "\u001b[0;31mKeyboardInterrupt\u001b[0m                         Traceback (most recent call last)",
      "\u001b[0;32m/var/folders/zn/_2h7w2j547357vpm3_5pxrsr0000gn/T/ipykernel_1854/2306512423.py\u001b[0m in \u001b[0;36m<module>\u001b[0;34m\u001b[0m\n\u001b[1;32m      2\u001b[0m \u001b[0;34m\u001b[0m\u001b[0m\n\u001b[1;32m      3\u001b[0m \u001b[0mrecognizer\u001b[0m \u001b[0;34m=\u001b[0m \u001b[0mPointCloudRecognizer\u001b[0m\u001b[0;34m(\u001b[0m\u001b[0;34m)\u001b[0m\u001b[0;34m\u001b[0m\u001b[0;34m\u001b[0m\u001b[0m\n\u001b[0;32m----> 4\u001b[0;31m \u001b[0mpcr_accuracy_mean\u001b[0m\u001b[0;34m,\u001b[0m \u001b[0mpcr_accuracy_std\u001b[0m\u001b[0;34m,\u001b[0m \u001b[0my_preds\u001b[0m \u001b[0;34m=\u001b[0m \u001b[0muser_independent_cross_validation\u001b[0m\u001b[0;34m(\u001b[0m\u001b[0mestimator\u001b[0m\u001b[0;34m=\u001b[0m\u001b[0mrecognizer\u001b[0m\u001b[0;34m,\u001b[0m \u001b[0mX\u001b[0m\u001b[0;34m=\u001b[0m\u001b[0mX_scaled_and_resampled\u001b[0m\u001b[0;34m,\u001b[0m \u001b[0my\u001b[0m\u001b[0;34m=\u001b[0m\u001b[0my\u001b[0m\u001b[0;34m)\u001b[0m\u001b[0;34m\u001b[0m\u001b[0;34m\u001b[0m\u001b[0m\n\u001b[0m\u001b[1;32m      5\u001b[0m \u001b[0;34m\u001b[0m\u001b[0m\n\u001b[1;32m      6\u001b[0m \u001b[0mprint\u001b[0m\u001b[0;34m(\u001b[0m\u001b[0;34m\"DOMAIN 01 - $P Recognizer\"\u001b[0m\u001b[0;34m)\u001b[0m\u001b[0;34m\u001b[0m\u001b[0;34m\u001b[0m\u001b[0m\n",
      "\u001b[0;32m/var/folders/zn/_2h7w2j547357vpm3_5pxrsr0000gn/T/ipykernel_1854/2749122331.py\u001b[0m in \u001b[0;36muser_independent_cross_validation\u001b[0;34m(estimator, X, y)\u001b[0m\n\u001b[1;32m     18\u001b[0m \u001b[0;34m\u001b[0m\u001b[0m\n\u001b[1;32m     19\u001b[0m                 \u001b[0mestimator\u001b[0m\u001b[0;34m.\u001b[0m\u001b[0mfit\u001b[0m\u001b[0;34m(\u001b[0m\u001b[0mX_train\u001b[0m\u001b[0;34m,\u001b[0m \u001b[0my_train\u001b[0m\u001b[0;34m)\u001b[0m\u001b[0;34m\u001b[0m\u001b[0;34m\u001b[0m\u001b[0m\n\u001b[0;32m---> 20\u001b[0;31m                 \u001b[0my_pred\u001b[0m \u001b[0;34m=\u001b[0m \u001b[0mestimator\u001b[0m\u001b[0;34m.\u001b[0m\u001b[0mpredict\u001b[0m\u001b[0;34m(\u001b[0m\u001b[0mX_test\u001b[0m\u001b[0;34m)\u001b[0m\u001b[0;34m\u001b[0m\u001b[0;34m\u001b[0m\u001b[0m\n\u001b[0m\u001b[1;32m     21\u001b[0m \u001b[0;34m\u001b[0m\u001b[0m\n\u001b[1;32m     22\u001b[0m                 \u001b[0maccuracy\u001b[0m \u001b[0;34m=\u001b[0m \u001b[0maccuracy_score\u001b[0m\u001b[0;34m(\u001b[0m\u001b[0my_true\u001b[0m\u001b[0;34m=\u001b[0m\u001b[0my_test\u001b[0m\u001b[0;34m,\u001b[0m \u001b[0my_pred\u001b[0m\u001b[0;34m=\u001b[0m\u001b[0my_pred\u001b[0m\u001b[0;34m)\u001b[0m\u001b[0;34m\u001b[0m\u001b[0;34m\u001b[0m\u001b[0m\n",
      "\u001b[0;32m/var/folders/zn/_2h7w2j547357vpm3_5pxrsr0000gn/T/ipykernel_1854/3496270884.py\u001b[0m in \u001b[0;36mpredict\u001b[0;34m(self, X)\u001b[0m\n\u001b[1;32m     69\u001b[0m                                 \u001b[0mpoints\u001b[0m\u001b[0;34m.\u001b[0m\u001b[0mappend\u001b[0m\u001b[0;34m(\u001b[0m\u001b[0mpoint\u001b[0m\u001b[0;34m)\u001b[0m\u001b[0;34m\u001b[0m\u001b[0;34m\u001b[0m\u001b[0m\n\u001b[1;32m     70\u001b[0m \u001b[0;34m\u001b[0m\u001b[0m\n\u001b[0;32m---> 71\u001b[0;31m                         \u001b[0mresult\u001b[0m \u001b[0;34m=\u001b[0m \u001b[0mself\u001b[0m\u001b[0;34m.\u001b[0m\u001b[0mrecognizer\u001b[0m\u001b[0;34m.\u001b[0m\u001b[0mrecognize\u001b[0m\u001b[0;34m(\u001b[0m\u001b[0mpoints\u001b[0m\u001b[0;34m)\u001b[0m\u001b[0;34m\u001b[0m\u001b[0;34m\u001b[0m\u001b[0m\n\u001b[0m\u001b[1;32m     72\u001b[0m                         \u001b[0mresults\u001b[0m\u001b[0;34m.\u001b[0m\u001b[0mappend\u001b[0m\u001b[0;34m(\u001b[0m\u001b[0mresult\u001b[0m\u001b[0;34m[\u001b[0m\u001b[0;36m0\u001b[0m\u001b[0;34m]\u001b[0m\u001b[0;34m)\u001b[0m\u001b[0;34m\u001b[0m\u001b[0;34m\u001b[0m\u001b[0m\n\u001b[1;32m     73\u001b[0m \u001b[0;34m\u001b[0m\u001b[0m\n",
      "\u001b[0;32m~/opt/anaconda3/lib/python3.9/site-packages/dollarpy.py\u001b[0m in \u001b[0;36mrecognize\u001b[0;34m(self, points, n)\u001b[0m\n\u001b[1;32m     46\u001b[0m \u001b[0;34m\u001b[0m\u001b[0m\n\u001b[1;32m     47\u001b[0m         \u001b[0;32mfor\u001b[0m \u001b[0mtemplate\u001b[0m \u001b[0;32min\u001b[0m \u001b[0mself\u001b[0m\u001b[0;34m.\u001b[0m\u001b[0mtemplates\u001b[0m\u001b[0;34m:\u001b[0m\u001b[0;34m\u001b[0m\u001b[0;34m\u001b[0m\u001b[0m\n\u001b[0;32m---> 48\u001b[0;31m             \u001b[0mtemplate\u001b[0m \u001b[0;34m=\u001b[0m \u001b[0mself\u001b[0m\u001b[0;34m.\u001b[0m\u001b[0m_normalize\u001b[0m\u001b[0;34m(\u001b[0m\u001b[0mtemplate\u001b[0m\u001b[0;34m,\u001b[0m \u001b[0mn\u001b[0m\u001b[0;34m)\u001b[0m\u001b[0;34m\u001b[0m\u001b[0;34m\u001b[0m\u001b[0m\n\u001b[0m\u001b[1;32m     49\u001b[0m             \u001b[0md\u001b[0m \u001b[0;34m=\u001b[0m \u001b[0mself\u001b[0m\u001b[0;34m.\u001b[0m\u001b[0m_greedy_cloud_match\u001b[0m\u001b[0;34m(\u001b[0m\u001b[0mpoints\u001b[0m\u001b[0;34m,\u001b[0m \u001b[0mtemplate\u001b[0m\u001b[0;34m,\u001b[0m \u001b[0mn\u001b[0m\u001b[0;34m)\u001b[0m\u001b[0;34m\u001b[0m\u001b[0;34m\u001b[0m\u001b[0m\n\u001b[1;32m     50\u001b[0m             \u001b[0;32mif\u001b[0m \u001b[0mscore\u001b[0m \u001b[0;34m>\u001b[0m \u001b[0md\u001b[0m\u001b[0;34m:\u001b[0m\u001b[0;34m\u001b[0m\u001b[0;34m\u001b[0m\u001b[0m\n",
      "\u001b[0;32m~/opt/anaconda3/lib/python3.9/site-packages/dollarpy.py\u001b[0m in \u001b[0;36m_normalize\u001b[0;34m(self, points, n)\u001b[0m\n\u001b[1;32m     93\u001b[0m \u001b[0;34m\u001b[0m\u001b[0m\n\u001b[1;32m     94\u001b[0m     \u001b[0;32mdef\u001b[0m \u001b[0m_normalize\u001b[0m\u001b[0;34m(\u001b[0m\u001b[0mself\u001b[0m\u001b[0;34m,\u001b[0m \u001b[0mpoints\u001b[0m\u001b[0;34m,\u001b[0m \u001b[0mn\u001b[0m\u001b[0;34m)\u001b[0m\u001b[0;34m:\u001b[0m\u001b[0;34m\u001b[0m\u001b[0;34m\u001b[0m\u001b[0m\n\u001b[0;32m---> 95\u001b[0;31m         \u001b[0mpoints\u001b[0m \u001b[0;34m=\u001b[0m \u001b[0mself\u001b[0m\u001b[0;34m.\u001b[0m\u001b[0m_resample\u001b[0m\u001b[0;34m(\u001b[0m\u001b[0mpoints\u001b[0m\u001b[0;34m,\u001b[0m \u001b[0mn\u001b[0m\u001b[0;34m)\u001b[0m\u001b[0;34m\u001b[0m\u001b[0;34m\u001b[0m\u001b[0m\n\u001b[0m\u001b[1;32m     96\u001b[0m         \u001b[0mpoints\u001b[0m \u001b[0;34m=\u001b[0m \u001b[0mself\u001b[0m\u001b[0;34m.\u001b[0m\u001b[0m_scale\u001b[0m\u001b[0;34m(\u001b[0m\u001b[0mpoints\u001b[0m\u001b[0;34m)\u001b[0m\u001b[0;34m\u001b[0m\u001b[0;34m\u001b[0m\u001b[0m\n\u001b[1;32m     97\u001b[0m         \u001b[0mpoints\u001b[0m \u001b[0;34m=\u001b[0m \u001b[0mself\u001b[0m\u001b[0;34m.\u001b[0m\u001b[0m_translate_to_origin\u001b[0m\u001b[0;34m(\u001b[0m\u001b[0mpoints\u001b[0m\u001b[0;34m,\u001b[0m \u001b[0mn\u001b[0m\u001b[0;34m)\u001b[0m\u001b[0;34m\u001b[0m\u001b[0;34m\u001b[0m\u001b[0m\n",
      "\u001b[0;32m~/opt/anaconda3/lib/python3.9/site-packages/dollarpy.py\u001b[0m in \u001b[0;36m_resample\u001b[0;34m(self, points, n)\u001b[0m\n\u001b[1;32m    110\u001b[0m             \u001b[0;32mif\u001b[0m \u001b[0mpoints\u001b[0m\u001b[0;34m[\u001b[0m\u001b[0mi\u001b[0m\u001b[0;34m]\u001b[0m\u001b[0;34m.\u001b[0m\u001b[0mstroke_id\u001b[0m \u001b[0;34m==\u001b[0m \u001b[0mpoints\u001b[0m\u001b[0;34m[\u001b[0m\u001b[0mi\u001b[0m \u001b[0;34m-\u001b[0m \u001b[0;36m1\u001b[0m\u001b[0;34m]\u001b[0m\u001b[0;34m.\u001b[0m\u001b[0mstroke_id\u001b[0m\u001b[0;34m:\u001b[0m\u001b[0;34m\u001b[0m\u001b[0;34m\u001b[0m\u001b[0m\n\u001b[1;32m    111\u001b[0m                 \u001b[0md\u001b[0m \u001b[0;34m=\u001b[0m \u001b[0mself\u001b[0m\u001b[0;34m.\u001b[0m\u001b[0m_euclidean_distance\u001b[0m\u001b[0;34m(\u001b[0m\u001b[0mpoints\u001b[0m\u001b[0;34m[\u001b[0m\u001b[0mi\u001b[0m \u001b[0;34m-\u001b[0m \u001b[0;36m1\u001b[0m\u001b[0;34m]\u001b[0m\u001b[0;34m,\u001b[0m \u001b[0mpoints\u001b[0m\u001b[0;34m[\u001b[0m\u001b[0mi\u001b[0m\u001b[0;34m]\u001b[0m\u001b[0;34m)\u001b[0m\u001b[0;34m\u001b[0m\u001b[0;34m\u001b[0m\u001b[0m\n\u001b[0;32m--> 112\u001b[0;31m                 \u001b[0;32mif\u001b[0m \u001b[0mD\u001b[0m \u001b[0;34m+\u001b[0m \u001b[0md\u001b[0m \u001b[0;34m>=\u001b[0m \u001b[0mI\u001b[0m\u001b[0;34m:\u001b[0m\u001b[0;34m\u001b[0m\u001b[0;34m\u001b[0m\u001b[0m\n\u001b[0m\u001b[1;32m    113\u001b[0m                     q = Point(points[i - 1].x + ((I - D) / d) * (points[i].x - points[i - 1].x),\n\u001b[1;32m    114\u001b[0m                               points[i - 1].y + ((I - D) / d) * (points[i].y - points[i - 1].y))\n",
      "\u001b[0;31mKeyboardInterrupt\u001b[0m: "
     ]
    }
   ],
   "source": [
    "recognizer = PointCloudRecognizer()\n",
    "\n",
    "X_scaled_and_resampled = standardize(X, N = 64)\n",
    "pcr_accuracy_mean, pcr_accuracy_std, y_preds, y_tests = user_independent_cross_validation(estimator=recognizer, X=X_scaled_and_resampled, y=y)\n",
    "\n",
    "print(\"DOMAIN 01 - $P Recognizer\")\n",
    "\n",
    "print(\"USER INDEPENDENT CROSS VALIDATION\")\n",
    "print(f\"mean accuracy: {np.round(pcr_accuracy_mean, 3)}\")\n",
    "print(f\"std accuracy: {np.round(pcr_accuracy_std, 3)}\")"
   ]
  },
  {
   "attachments": {},
   "cell_type": "markdown",
   "metadata": {},
   "source": [
    "### Neural Network"
   ]
  }
 ],
 "metadata": {
  "kernelspec": {
   "display_name": "base",
   "language": "python",
   "name": "python3"
  },
  "language_info": {
   "codemirror_mode": {
    "name": "ipython",
    "version": 3
   },
   "file_extension": ".py",
   "mimetype": "text/x-python",
   "name": "python",
   "nbconvert_exporter": "python",
   "pygments_lexer": "ipython3",
   "version": "3.9.13"
  },
  "orig_nbformat": 4
 },
 "nbformat": 4,
 "nbformat_minor": 2
}
